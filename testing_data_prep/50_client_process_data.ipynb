{
 "cells": [
  {
   "cell_type": "code",
   "execution_count": null,
   "id": "e2662e38",
   "metadata": {},
   "outputs": [],
   "source": []
  },
  {
   "cell_type": "code",
   "execution_count": 1,
   "id": "fd8fb061-0f10-4ad9-ab36-1148ee49cdd8",
   "metadata": {},
   "outputs": [],
   "source": [
    "import torch\n",
    "import numpy as np\n",
    "import pandas as pd\n",
    "from datasets.base_dataset import BaseDataset\n",
    "from torch.utils.data import TensorDataset, DataLoader\n",
    "from torch.utils.data import Dataset, DataLoader\n",
    "import sys\n",
    "sys.path.append(\"..\")\n",
    "from utils import to_numeric\n",
    "import pickle"
   ]
  },
  {
   "cell_type": "code",
   "execution_count": 2,
   "id": "885dbaf0-54e5-490a-926e-bb6475a0db80",
   "metadata": {},
   "outputs": [
    {
     "data": {
      "text/plain": [
       "'1.7.1'"
      ]
     },
     "execution_count": 2,
     "metadata": {},
     "output_type": "execute_result"
    }
   ],
   "source": [
    "torch.__version__"
   ]
  },
  {
   "cell_type": "code",
   "execution_count": null,
   "id": "875db58d-4b05-4cf3-a790-628e94897584",
   "metadata": {},
   "outputs": [],
   "source": []
  },
  {
   "cell_type": "code",
   "execution_count": 3,
   "id": "c7055a76-f724-4806-b51b-6db5fe4f5025",
   "metadata": {},
   "outputs": [],
   "source": [
    "# ============================== Training==========================================\n",
    "\n",
    "class ADULT(BaseDataset):\n",
    "\n",
    "    def __init__(self, name='ADULT', single_bit_binary=False, device='cpu', random_state=42, name_state=\"AL\"):\n",
    "        super(ADULT, self).__init__(name=name, device=device, random_state=random_state)\n",
    "        print(name_state)\n",
    "        self.features = {\n",
    "            'AGEP': None,\n",
    "            'COW': None,\n",
    "            'SCHL': None,\n",
    "            'MAR': None,\n",
    "            'OCCP': None,\n",
    "            'POBP': None,\n",
    "            'RELP': None,\n",
    "            'WKHP': None,\n",
    "            'SEX': None,\n",
    "            'RAC1P': None,      \n",
    "            'PINCP': ['>50K', '<=50K']\n",
    "        }\n",
    "        \n",
    "        self.single_bit_binary = single_bit_binary\n",
    "        self.label = 'PINCP'\n",
    "\n",
    "        self.train_features = {key: self.features[key] for key in self.features.keys() if key != self.label}\n",
    "\n",
    "        # name_state=\"GA\"\n",
    "\n",
    "        self.train_data_df = pd.read_csv(f'50_clients_data/raw_data/{name_state}.data', delimiter=',', names=list(self.features.keys()), engine='python')\n",
    "        self.test_data_df = pd.read_csv(f'50_clients_data/raw_data/{name_state}.test', delimiter=',', names=list(self.features.keys()), skiprows=1, engine='python')\n",
    "\n",
    "        train_data = self.train_data_df.to_numpy()\n",
    "        test_data = self.test_data_df.to_numpy()\n",
    "\n",
    "        train_rows_to_keep = [not ('?' in row) for row in train_data]\n",
    "        test_rows_to_keep = [not ('?' in row) for row in test_data]\n",
    "\n",
    "        train_data = train_data[train_rows_to_keep]\n",
    "        test_data = test_data[test_rows_to_keep]\n",
    "\n",
    "        # remove the annoying dot from the test labels\n",
    "        for row in test_data:\n",
    "            # print(len(row))\n",
    "            # print(row[-1])\n",
    "\n",
    "            row[-1] = row[-1][:-1]\n",
    "\n",
    "        # convert to numeric features\n",
    "        train_data_num = to_numeric(train_data, self.features, label=self.label, single_bit_binary=self.single_bit_binary)\n",
    "        test_data_num = to_numeric(test_data, self.features, label=self.label, single_bit_binary=self.single_bit_binary)\n",
    "\n",
    "        # split features and labels\n",
    "        Xtrain, Xtest = train_data_num[:, :-1].astype(np.float32), test_data_num[:, :-1].astype(np.float32)\n",
    "        ytrain, ytest = train_data_num[:, -1].astype(np.float32), test_data_num[:, -1].astype(np.float32)\n",
    "\n",
    "        print(name_state,len(Xtrain))\n",
    "        print(\"ytrain \",np.unique(ytrain))\n",
    "        print(\"ytest \",np.unique(ytest))\n",
    "        \n",
    "        self.num_features = Xtrain.shape[1]\n",
    "\n",
    "        # transfer to torch\n",
    "        self.Xtrain, self.Xtest = torch.tensor(Xtrain).to(self.device), torch.tensor(Xtest).to(self.device)\n",
    "        self.ytrain, self.ytest = torch.tensor(ytrain, dtype=torch.long).to(self.device), torch.tensor(ytest, dtype=torch.long).to(self.device)\n",
    "\n",
    "        # set to train mode as base\n",
    "        self.train()\n",
    "\n",
    "        # calculate the standardization statistics\n",
    "        self._calculate_mean_std()\n",
    "\n",
    "        # calculate the histograms and feature bounds\n",
    "        self._calculate_categorical_feature_distributions_and_continuous_bounds()"
   ]
  },
  {
   "cell_type": "markdown",
   "id": "b3e8483f-5b4d-4799-b10a-ce36b988fe1a",
   "metadata": {},
   "source": [
    "# # pytorch 1.7.1\n",
    "- 1 setup for Training data (2018) 50_clients_data\n",
    "- 2 setup for Testing data (2019) 50_clients_data"
   ]
  },
  {
   "cell_type": "code",
   "execution_count": null,
   "id": "4c120199-cf74-4fa9-aa3d-5dfc880fc624",
   "metadata": {},
   "outputs": [],
   "source": []
  },
  {
   "cell_type": "code",
   "execution_count": 4,
   "id": "f9ab5d0d-f4f4-4d39-a4f6-ff5fccae5a1d",
   "metadata": {},
   "outputs": [],
   "source": [
    "# NY is removed.. We need make dataloader with Torch2.0\n",
    "\n",
    "state_codes = [\"AL\", \"AK\", \"AZ\", \"AR\", \"CA\", \"CO\", \"CT\", \"DE\", \"FL\", \"GA\",\n",
    "               \"HI\", \"ID\", \"IL\", \"IN\", \"IA\", \"KS\", \"KY\", \"LA\", \"ME\", \"MD\",\n",
    "               \"MA\", \"MI\", \"MN\", \"MS\", \"MO\", \"MT\", \"NE\", \"NV\", \"NH\", \"NJ\",\n",
    "               \"NM\", \"NC\", \"ND\",\"NY\", \"OH\", \"OK\", \"OR\", \"PA\", \"RI\", \"SC\",\n",
    "               \"SD\", \"TN\", \"TX\", \"UT\", \"VT\", \"VA\", \"WA\", \"WV\", \"WI\", \"WY\"]\n",
    "\n",
    "# state_codes = [ \"CA\",\"FL\",\"GA\",\"IL\",\"OH\",\"PA\",\"TX\"]"
   ]
  },
  {
   "cell_type": "code",
   "execution_count": 5,
   "id": "d5de40ff-1c9e-40f1-9854-357cd472d65a",
   "metadata": {},
   "outputs": [
    {
     "name": "stdout",
     "output_type": "stream",
     "text": [
      "AL\n",
      "AL 2000\n",
      "ytrain  [0. 1.]\n",
      "ytest  [0. 1.]\n",
      "AK\n",
      "AK 2000\n",
      "ytrain  [0. 1.]\n",
      "ytest  [0. 1.]\n",
      "AZ\n",
      "AZ 2000\n",
      "ytrain  [0. 1.]\n",
      "ytest  [0. 1.]\n",
      "AR\n",
      "AR 2000\n",
      "ytrain  [0. 1.]\n",
      "ytest  [0. 1.]\n",
      "CA\n",
      "CA 2000\n",
      "ytrain  [0. 1.]\n",
      "ytest  [0. 1.]\n",
      "CO\n",
      "CO 2000\n",
      "ytrain  [0. 1.]\n",
      "ytest  [0. 1.]\n",
      "CT\n",
      "CT 2000\n",
      "ytrain  [0. 1.]\n",
      "ytest  [0. 1.]\n",
      "DE\n",
      "DE 2000\n",
      "ytrain  [0. 1.]\n",
      "ytest  [0. 1.]\n",
      "FL\n",
      "FL 2000\n",
      "ytrain  [0. 1.]\n",
      "ytest  [0. 1.]\n",
      "GA\n",
      "GA 2000\n",
      "ytrain  [0. 1.]\n",
      "ytest  [0. 1.]\n",
      "HI\n",
      "HI 2000\n",
      "ytrain  [0. 1.]\n",
      "ytest  [0. 1.]\n",
      "ID\n",
      "ID 2000\n",
      "ytrain  [0. 1.]\n",
      "ytest  [0. 1.]\n",
      "IL\n",
      "IL 2000\n",
      "ytrain  [0. 1.]\n",
      "ytest  [0. 1.]\n",
      "IN\n",
      "IN 2000\n",
      "ytrain  [0. 1.]\n",
      "ytest  [0. 1.]\n",
      "IA\n",
      "IA 2000\n",
      "ytrain  [0. 1.]\n",
      "ytest  [0. 1.]\n",
      "KS\n",
      "KS 2000\n",
      "ytrain  [0. 1.]\n",
      "ytest  [0. 1.]\n",
      "KY\n",
      "KY 2000\n",
      "ytrain  [0. 1.]\n",
      "ytest  [0. 1.]\n",
      "LA\n",
      "LA 2000\n",
      "ytrain  [0. 1.]\n",
      "ytest  [0. 1.]\n",
      "ME\n",
      "ME 2000\n",
      "ytrain  [0. 1.]\n",
      "ytest  [0. 1.]\n",
      "MD\n",
      "MD 2000\n",
      "ytrain  [0. 1.]\n",
      "ytest  [0. 1.]\n",
      "MA\n",
      "MA 2000\n",
      "ytrain  [0. 1.]\n",
      "ytest  [0. 1.]\n",
      "MI\n",
      "MI 2000\n",
      "ytrain  [0. 1.]\n",
      "ytest  [0. 1.]\n",
      "MN\n",
      "MN 2000\n",
      "ytrain  [0. 1.]\n",
      "ytest  [0. 1.]\n",
      "MS\n",
      "MS 2000\n",
      "ytrain  [0. 1.]\n",
      "ytest  [0. 1.]\n",
      "MO\n",
      "MO 2000\n",
      "ytrain  [0. 1.]\n",
      "ytest  [0. 1.]\n",
      "MT\n",
      "MT 2000\n",
      "ytrain  [0. 1.]\n",
      "ytest  [0. 1.]\n",
      "NE\n",
      "NE 2000\n",
      "ytrain  [0. 1.]\n",
      "ytest  [0. 1.]\n",
      "NV\n",
      "NV 2000\n",
      "ytrain  [0. 1.]\n",
      "ytest  [0. 1.]\n",
      "NH\n",
      "NH 2000\n",
      "ytrain  [0. 1.]\n",
      "ytest  [0. 1.]\n",
      "NJ\n",
      "NJ 2000\n",
      "ytrain  [0. 1.]\n",
      "ytest  [0. 1.]\n",
      "NM\n",
      "NM 2000\n",
      "ytrain  [0. 1.]\n",
      "ytest  [0. 1.]\n",
      "NC\n",
      "NC 2000\n",
      "ytrain  [0. 1.]\n",
      "ytest  [0. 1.]\n",
      "ND\n",
      "ND 2000\n",
      "ytrain  [0. 1.]\n",
      "ytest  [0. 1.]\n",
      "NY\n",
      "NY 2000\n",
      "ytrain  [0. 1.]\n",
      "ytest  [0. 1.]\n",
      "OH\n",
      "OH 2000\n",
      "ytrain  [0. 1.]\n",
      "ytest  [0. 1.]\n",
      "OK\n",
      "OK 2000\n",
      "ytrain  [0. 1.]\n",
      "ytest  [0. 1.]\n",
      "OR\n",
      "OR 2000\n",
      "ytrain  [0. 1.]\n",
      "ytest  [0. 1.]\n",
      "PA\n",
      "PA 2000\n",
      "ytrain  [0. 1.]\n",
      "ytest  [0. 1.]\n",
      "RI\n",
      "RI 2000\n",
      "ytrain  [0. 1.]\n",
      "ytest  [0. 1.]\n",
      "SC\n",
      "SC 2000\n",
      "ytrain  [0. 1.]\n",
      "ytest  [0. 1.]\n",
      "SD\n",
      "SD 2000\n",
      "ytrain  [0. 1.]\n",
      "ytest  [0. 1.]\n",
      "TN\n",
      "TN 2000\n",
      "ytrain  [0. 1.]\n",
      "ytest  [0. 1.]\n",
      "TX\n",
      "TX 2000\n",
      "ytrain  [0. 1.]\n",
      "ytest  [0. 1.]\n",
      "UT\n",
      "UT 2000\n",
      "ytrain  [0. 1.]\n",
      "ytest  [0. 1.]\n",
      "VT\n",
      "VT 2000\n",
      "ytrain  [0. 1.]\n",
      "ytest  [0. 1.]\n",
      "VA\n",
      "VA 2000\n",
      "ytrain  [0. 1.]\n",
      "ytest  [0. 1.]\n",
      "WA\n",
      "WA 2000\n",
      "ytrain  [0. 1.]\n",
      "ytest  [0. 1.]\n",
      "WV\n",
      "WV 2000\n",
      "ytrain  [0. 1.]\n",
      "ytest  [0. 1.]\n",
      "WI\n",
      "WI 2000\n",
      "ytrain  [0. 1.]\n",
      "ytest  [0. 1.]\n",
      "WY\n",
      "WY 2000\n",
      "ytrain  [0. 1.]\n",
      "ytest  [0. 1.]\n"
     ]
    }
   ],
   "source": [
    " # ================ Trainng ===============================\n",
    "\n",
    "for state_code in state_codes:\n",
    "    state_name=state_code\n",
    "    adult_dataset = ADULT(name_state=state_name)\n",
    "    adult_dataset.standardize()\n",
    "    dataset = TensorDataset(adult_dataset.Xtrain, adult_dataset.ytrain)\n",
    "    dataloader = DataLoader(dataset, batch_size=32, shuffle=True)  \n",
    "\n",
    "    with open(f'50_clients_data/processed_data/{state_name}.pkl', 'wb') as f:\n",
    "        pickle.dump(dataloader, f)\n",
    "        \n",
    "    dataset = TensorDataset(adult_dataset.Xtest, adult_dataset.ytest)\n",
    "    dataloader = DataLoader(dataset, batch_size=32, shuffle=True)  \n",
    "    \n",
    "    with open(f'50_clients_data/processed_data/{state_name}_test.pkl', 'wb') as f:\n",
    "        pickle.dump(dataloader, f)"
   ]
  },
  {
   "cell_type": "code",
   "execution_count": 7,
   "id": "fef14032-e5c3-471d-969b-9b9d4f6f3f52",
   "metadata": {},
   "outputs": [
    {
     "data": {
      "text/html": [
       "<div>\n",
       "<style scoped>\n",
       "    .dataframe tbody tr th:only-of-type {\n",
       "        vertical-align: middle;\n",
       "    }\n",
       "\n",
       "    .dataframe tbody tr th {\n",
       "        vertical-align: top;\n",
       "    }\n",
       "\n",
       "    .dataframe thead th {\n",
       "        text-align: right;\n",
       "    }\n",
       "</style>\n",
       "<table border=\"1\" class=\"dataframe\">\n",
       "  <thead>\n",
       "    <tr style=\"text-align: right;\">\n",
       "      <th></th>\n",
       "      <th>AGEP</th>\n",
       "      <th>COW</th>\n",
       "      <th>SCHL</th>\n",
       "      <th>MAR</th>\n",
       "      <th>OCCP</th>\n",
       "      <th>POBP</th>\n",
       "      <th>RELP</th>\n",
       "      <th>WKHP</th>\n",
       "      <th>SEX</th>\n",
       "      <th>RAC1P</th>\n",
       "      <th>PINCP</th>\n",
       "    </tr>\n",
       "  </thead>\n",
       "  <tbody>\n",
       "    <tr>\n",
       "      <th>60</th>\n",
       "      <td>68.0</td>\n",
       "      <td>1.0</td>\n",
       "      <td>20.0</td>\n",
       "      <td>3.0</td>\n",
       "      <td>3646.0</td>\n",
       "      <td>30.0</td>\n",
       "      <td>0.0</td>\n",
       "      <td>40.0</td>\n",
       "      <td>2.0</td>\n",
       "      <td>1.0</td>\n",
       "      <td>&lt;=50K</td>\n",
       "    </tr>\n",
       "    <tr>\n",
       "      <th>61</th>\n",
       "      <td>44.0</td>\n",
       "      <td>2.0</td>\n",
       "      <td>16.0</td>\n",
       "      <td>1.0</td>\n",
       "      <td>1050.0</td>\n",
       "      <td>12.0</td>\n",
       "      <td>1.0</td>\n",
       "      <td>40.0</td>\n",
       "      <td>2.0</td>\n",
       "      <td>1.0</td>\n",
       "      <td>&lt;=50K</td>\n",
       "    </tr>\n",
       "    <tr>\n",
       "      <th>62</th>\n",
       "      <td>21.0</td>\n",
       "      <td>1.0</td>\n",
       "      <td>16.0</td>\n",
       "      <td>5.0</td>\n",
       "      <td>6050.0</td>\n",
       "      <td>13.0</td>\n",
       "      <td>12.0</td>\n",
       "      <td>50.0</td>\n",
       "      <td>1.0</td>\n",
       "      <td>1.0</td>\n",
       "      <td>&lt;=50K</td>\n",
       "    </tr>\n",
       "    <tr>\n",
       "      <th>63</th>\n",
       "      <td>44.0</td>\n",
       "      <td>1.0</td>\n",
       "      <td>20.0</td>\n",
       "      <td>1.0</td>\n",
       "      <td>1105.0</td>\n",
       "      <td>56.0</td>\n",
       "      <td>1.0</td>\n",
       "      <td>40.0</td>\n",
       "      <td>1.0</td>\n",
       "      <td>1.0</td>\n",
       "      <td>&gt;50K</td>\n",
       "    </tr>\n",
       "    <tr>\n",
       "      <th>64</th>\n",
       "      <td>46.0</td>\n",
       "      <td>1.0</td>\n",
       "      <td>22.0</td>\n",
       "      <td>1.0</td>\n",
       "      <td>1305.0</td>\n",
       "      <td>56.0</td>\n",
       "      <td>1.0</td>\n",
       "      <td>40.0</td>\n",
       "      <td>1.0</td>\n",
       "      <td>1.0</td>\n",
       "      <td>&lt;=50K</td>\n",
       "    </tr>\n",
       "    <tr>\n",
       "      <th>...</th>\n",
       "      <td>...</td>\n",
       "      <td>...</td>\n",
       "      <td>...</td>\n",
       "      <td>...</td>\n",
       "      <td>...</td>\n",
       "      <td>...</td>\n",
       "      <td>...</td>\n",
       "      <td>...</td>\n",
       "      <td>...</td>\n",
       "      <td>...</td>\n",
       "      <td>...</td>\n",
       "    </tr>\n",
       "    <tr>\n",
       "      <th>1995</th>\n",
       "      <td>40.0</td>\n",
       "      <td>4.0</td>\n",
       "      <td>23.0</td>\n",
       "      <td>5.0</td>\n",
       "      <td>2205.0</td>\n",
       "      <td>17.0</td>\n",
       "      <td>0.0</td>\n",
       "      <td>50.0</td>\n",
       "      <td>1.0</td>\n",
       "      <td>1.0</td>\n",
       "      <td>&lt;=50K</td>\n",
       "    </tr>\n",
       "    <tr>\n",
       "      <th>1996</th>\n",
       "      <td>43.0</td>\n",
       "      <td>1.0</td>\n",
       "      <td>16.0</td>\n",
       "      <td>3.0</td>\n",
       "      <td>4040.0</td>\n",
       "      <td>56.0</td>\n",
       "      <td>13.0</td>\n",
       "      <td>35.0</td>\n",
       "      <td>2.0</td>\n",
       "      <td>1.0</td>\n",
       "      <td>&lt;=50K</td>\n",
       "    </tr>\n",
       "    <tr>\n",
       "      <th>1997</th>\n",
       "      <td>25.0</td>\n",
       "      <td>1.0</td>\n",
       "      <td>16.0</td>\n",
       "      <td>5.0</td>\n",
       "      <td>4700.0</td>\n",
       "      <td>17.0</td>\n",
       "      <td>12.0</td>\n",
       "      <td>40.0</td>\n",
       "      <td>2.0</td>\n",
       "      <td>1.0</td>\n",
       "      <td>&lt;=50K</td>\n",
       "    </tr>\n",
       "    <tr>\n",
       "      <th>1998</th>\n",
       "      <td>54.0</td>\n",
       "      <td>7.0</td>\n",
       "      <td>19.0</td>\n",
       "      <td>1.0</td>\n",
       "      <td>9130.0</td>\n",
       "      <td>8.0</td>\n",
       "      <td>0.0</td>\n",
       "      <td>40.0</td>\n",
       "      <td>1.0</td>\n",
       "      <td>1.0</td>\n",
       "      <td>&gt;50K</td>\n",
       "    </tr>\n",
       "    <tr>\n",
       "      <th>1999</th>\n",
       "      <td>22.0</td>\n",
       "      <td>1.0</td>\n",
       "      <td>20.0</td>\n",
       "      <td>5.0</td>\n",
       "      <td>7350.0</td>\n",
       "      <td>110.0</td>\n",
       "      <td>12.0</td>\n",
       "      <td>74.0</td>\n",
       "      <td>1.0</td>\n",
       "      <td>1.0</td>\n",
       "      <td>&gt;50K</td>\n",
       "    </tr>\n",
       "  </tbody>\n",
       "</table>\n",
       "<p>1940 rows × 11 columns</p>\n",
       "</div>"
      ],
      "text/plain": [
       "      AGEP  COW  SCHL  MAR    OCCP   POBP  RELP  WKHP  SEX  RAC1P  PINCP\n",
       "60    68.0  1.0  20.0  3.0  3646.0   30.0   0.0  40.0  2.0    1.0  <=50K\n",
       "61    44.0  2.0  16.0  1.0  1050.0   12.0   1.0  40.0  2.0    1.0  <=50K\n",
       "62    21.0  1.0  16.0  5.0  6050.0   13.0  12.0  50.0  1.0    1.0  <=50K\n",
       "63    44.0  1.0  20.0  1.0  1105.0   56.0   1.0  40.0  1.0    1.0   >50K\n",
       "64    46.0  1.0  22.0  1.0  1305.0   56.0   1.0  40.0  1.0    1.0  <=50K\n",
       "...    ...  ...   ...  ...     ...    ...   ...   ...  ...    ...    ...\n",
       "1995  40.0  4.0  23.0  5.0  2205.0   17.0   0.0  50.0  1.0    1.0  <=50K\n",
       "1996  43.0  1.0  16.0  3.0  4040.0   56.0  13.0  35.0  2.0    1.0  <=50K\n",
       "1997  25.0  1.0  16.0  5.0  4700.0   17.0  12.0  40.0  2.0    1.0  <=50K\n",
       "1998  54.0  7.0  19.0  1.0  9130.0    8.0   0.0  40.0  1.0    1.0   >50K\n",
       "1999  22.0  1.0  20.0  5.0  7350.0  110.0  12.0  74.0  1.0    1.0   >50K\n",
       "\n",
       "[1940 rows x 11 columns]"
      ]
     },
     "execution_count": 7,
     "metadata": {},
     "output_type": "execute_result"
    }
   ],
   "source": [
    "adult_dataset.train_data_df[60:]"
   ]
  },
  {
   "cell_type": "code",
   "execution_count": 8,
   "id": "560972c7-8395-4a79-b8fb-42013de80987",
   "metadata": {},
   "outputs": [],
   "source": [
    "# adult_dataset.train_data_df[adult_dataset.train_data_df[\"RAC1P\"]==2]"
   ]
  },
  {
   "cell_type": "code",
   "execution_count": 9,
   "id": "622c346d-d4f0-40ef-83a9-3d7d05ec8ee5",
   "metadata": {},
   "outputs": [
    {
     "data": {
      "text/plain": [
       "tensor([[ 1.4702, -0.6885,  0.5057,  ...,  0.0185,  1.0724, -0.0758],\n",
       "        [-0.0493, -0.1689, -0.9514,  ...,  0.0185,  1.0724, -0.0758],\n",
       "        [-1.5056, -0.6885, -0.9514,  ...,  0.7208, -0.9320, -0.0758],\n",
       "        ...,\n",
       "        [-1.2523, -0.6885, -0.9514,  ...,  0.0185,  1.0724, -0.0758],\n",
       "        [ 0.5838,  2.4296,  0.1414,  ...,  0.0185, -0.9320, -0.0758],\n",
       "        [-1.4423, -0.6885,  0.5057,  ...,  2.4063, -0.9320, -0.0758]])"
      ]
     },
     "execution_count": 9,
     "metadata": {},
     "output_type": "execute_result"
    }
   ],
   "source": [
    "adult_dataset.Xtrain[60:]"
   ]
  },
  {
   "cell_type": "code",
   "execution_count": null,
   "id": "cb6b824b-b7af-4c83-9f19-ee090f905b69",
   "metadata": {},
   "outputs": [],
   "source": [
    " # -----------------  Needed for Intersectional loss ----------\n",
    "\n",
    "# -0.9311,==>1\n",
    "# 1.0734,==>2 or 0\n",
    "\n",
    "# -0.0758,==>1  \n",
    "# 13.1846,==>2  or 0"
   ]
  },
  {
   "cell_type": "code",
   "execution_count": null,
   "id": "480242b5-a8cd-47fc-b416-68e49ee23fc5",
   "metadata": {},
   "outputs": [],
   "source": []
  },
  {
   "cell_type": "code",
   "execution_count": null,
   "id": "78c3bcb3-3d29-4217-ba08-11ac19e34732",
   "metadata": {},
   "outputs": [],
   "source": []
  },
  {
   "cell_type": "markdown",
   "id": "0e8881fb-d7ba-486e-9392-8bcde9cf22a4",
   "metadata": {},
   "source": [
    "# Torch 2+ "
   ]
  },
  {
   "cell_type": "code",
   "execution_count": 23,
   "id": "c4c0fb0b-4f91-4001-a283-87af22f59454",
   "metadata": {},
   "outputs": [
    {
     "data": {
      "text/plain": [
       "'1.7.1'"
      ]
     },
     "execution_count": 23,
     "metadata": {},
     "output_type": "execute_result"
    }
   ],
   "source": [
    "torch.__version__"
   ]
  },
  {
   "cell_type": "code",
   "execution_count": 4,
   "id": "802fa3ab-358c-401b-bb1d-ab2b6257ccf2",
   "metadata": {},
   "outputs": [],
   "source": [
    "# ============================== Testing ==========================================\n",
    "\n",
    "class ADULT(BaseDataset):\n",
    "\n",
    "    def __init__(self, name='ADULT', single_bit_binary=False, device='cpu', random_state=42, name_state=\"AL\"):\n",
    "        super(ADULT, self).__init__(name=name, device=device, random_state=random_state)\n",
    "        print(name_state)\n",
    "        self.features = {\n",
    "            'AGEP': None,\n",
    "            'COW': None,\n",
    "            'SCHL': None,\n",
    "            'MAR': None,\n",
    "            'OCCP': None,\n",
    "            'POBP': None,\n",
    "            'RELP': None,\n",
    "            'WKHP': None,\n",
    "            'SEX': None,\n",
    "            'RAC1P': None,      \n",
    "            'PINCP': ['>50K', '<=50K']\n",
    "        }\n",
    "        \n",
    "        self.single_bit_binary = single_bit_binary\n",
    "        self.label = 'PINCP'\n",
    "\n",
    "        self.train_features = {key: self.features[key] for key in self.features.keys() if key != self.label}\n",
    "\n",
    "        # name_state=\"GA\"\n",
    "\n",
    "        \n",
    "        self.train_data_df = pd.read_csv(f'50_clients_data_testing/client_subG_splits/{name_state}.data', delimiter=',', names=list(self.features.keys()), engine='python')\n",
    "        self.test_data_df = pd.read_csv(f'50_clients_data_testing/client_subG_splits/{name_state}.test', delimiter=',', names=list(self.features.keys()), skiprows=1, engine='python')\n",
    "\n",
    "        train_data = self.train_data_df.to_numpy()\n",
    "        test_data = self.test_data_df.to_numpy()\n",
    "\n",
    "        train_rows_to_keep = [not ('?' in row) for row in train_data]\n",
    "        test_rows_to_keep = [not ('?' in row) for row in test_data]\n",
    "\n",
    "        train_data = train_data[train_rows_to_keep]\n",
    "        test_data = test_data[test_rows_to_keep]\n",
    "\n",
    "        # remove the annoying dot from the test labels\n",
    "        for row in test_data:\n",
    "            # print(len(row))\n",
    "            # print(row[-1])\n",
    "\n",
    "            row[-1] = row[-1][:-1]\n",
    "\n",
    "        # convert to numeric features\n",
    "        train_data_num = to_numeric(train_data, self.features, label=self.label, single_bit_binary=self.single_bit_binary)\n",
    "        test_data_num = to_numeric(test_data, self.features, label=self.label, single_bit_binary=self.single_bit_binary)\n",
    "\n",
    "        # split features and labels\n",
    "        Xtrain, Xtest = train_data_num[:, :-1].astype(np.float32), test_data_num[:, :-1].astype(np.float32)\n",
    "        ytrain, ytest = train_data_num[:, -1].astype(np.float32), test_data_num[:, -1].astype(np.float32)\n",
    "\n",
    "        print(name_state,len(Xtrain))\n",
    "        print(\"ytrain \",np.unique(ytrain))\n",
    "        print(\"ytest \",np.unique(ytest))\n",
    "        \n",
    "        self.num_features = Xtrain.shape[1]\n",
    "\n",
    "        # transfer to torch\n",
    "        self.Xtrain, self.Xtest = torch.tensor(Xtrain).to(self.device), torch.tensor(Xtest).to(self.device)\n",
    "        self.ytrain, self.ytest = torch.tensor(ytrain, dtype=torch.long).to(self.device), torch.tensor(ytest, dtype=torch.long).to(self.device)\n",
    "\n",
    "        # set to train mode as base\n",
    "        self.train()\n",
    "\n",
    "        # calculate the standardization statistics\n",
    "        self._calculate_mean_std()\n",
    "\n",
    "        # calculate the histograms and feature bounds\n",
    "        self._calculate_categorical_feature_distributions_and_continuous_bounds()"
   ]
  },
  {
   "cell_type": "code",
   "execution_count": null,
   "id": "4f42b40a-2465-403a-a8a1-297ddb277249",
   "metadata": {},
   "outputs": [],
   "source": []
  },
  {
   "cell_type": "code",
   "execution_count": 5,
   "id": "eaad1865-8322-415e-bda3-82304b7ca884",
   "metadata": {},
   "outputs": [],
   "source": []
  },
  {
   "cell_type": "code",
   "execution_count": null,
   "id": "614997b9",
   "metadata": {},
   "outputs": [],
   "source": []
  },
  {
   "cell_type": "code",
   "execution_count": null,
   "id": "369e9fa3-a1e2-4f57-a0e7-aa1e7cfea0c4",
   "metadata": {},
   "outputs": [],
   "source": []
  },
  {
   "cell_type": "code",
   "execution_count": 6,
   "id": "e746fecc",
   "metadata": {},
   "outputs": [],
   "source": [
    "# adult_dataset.train_data_df"
   ]
  },
  {
   "cell_type": "code",
   "execution_count": null,
   "id": "10fc2967",
   "metadata": {},
   "outputs": [],
   "source": []
  },
  {
   "cell_type": "code",
   "execution_count": 7,
   "id": "6df1e254",
   "metadata": {},
   "outputs": [],
   "source": [
    "# adult_dataset.Xtrain"
   ]
  },
  {
   "cell_type": "code",
   "execution_count": 8,
   "id": "37c22bb9",
   "metadata": {},
   "outputs": [],
   "source": [
    "# adult_dataset.ytrain"
   ]
  },
  {
   "cell_type": "markdown",
   "id": "61c3a372-7c02-49dc-8690-87c3aeeb9194",
   "metadata": {},
   "source": []
  },
  {
   "cell_type": "code",
   "execution_count": 9,
   "id": "78637051-d8e7-43e0-9dd2-dfab585a999c",
   "metadata": {},
   "outputs": [
    {
     "name": "stdout",
     "output_type": "stream",
     "text": [
      "male\n",
      "male 86936\n",
      "ytrain  [0. 1.]\n",
      "ytest  [0.]\n",
      "female\n",
      "female 79835\n",
      "ytrain  [0. 1.]\n",
      "ytest  [0.]\n",
      "white\n",
      "white 130463\n",
      "ytrain  [0. 1.]\n",
      "ytest  [0.]\n",
      "black\n",
      "black 14480\n",
      "ytrain  [0. 1.]\n",
      "ytest  [0.]\n"
     ]
    }
   ],
   "source": [
    "#============================ For testing =============================\n",
    "state_codes=[\"male\",\"female\",\"white\",\"black\"]\n",
    "\n",
    "for state_code in state_codes:\n",
    "    state_name=state_code\n",
    "    adult_dataset = ADULT(name_state=state_name)\n",
    "    adult_dataset.standardize()\n",
    "    dataset = TensorDataset(adult_dataset.Xtrain, adult_dataset.ytrain)\n",
    "    dataloader = DataLoader(dataset, batch_size=32, shuffle=True)  \n",
    "\n",
    "    with open(f'50_clients_data_testing/client_subG_processed/{state_name}.pkl', 'wb') as f:\n",
    "        pickle.dump(dataloader, f)\n",
    "        \n",
    "    dataset = TensorDataset(adult_dataset.Xtest, adult_dataset.ytest)\n",
    "    dataloader = DataLoader(dataset, batch_size=32, shuffle=True)  \n",
    "    \n",
    "    with open(f'50_clients_data_testing/client_subG_processed/{state_name}_test.pkl', 'wb') as f:\n",
    "        pickle.dump(dataloader, f)"
   ]
  },
  {
   "cell_type": "code",
   "execution_count": 25,
   "id": "80382985-1d5a-4a3f-9d42-c777d80ba67c",
   "metadata": {},
   "outputs": [
    {
     "name": "stdout",
     "output_type": "stream",
     "text": [
      "WM\n",
      "WM 68843\n",
      "ytrain  [0. 1.]\n",
      "ytest  [0.]\n",
      "WW\n",
      "WW 61620\n",
      "ytrain  [0. 1.]\n",
      "ytest  [0.]\n",
      "BM\n",
      "BM 6750\n",
      "ytrain  [0. 1.]\n",
      "ytest  [0.]\n",
      "BW\n",
      "BW 7730\n",
      "ytrain  [0. 1.]\n",
      "ytest  [0.]\n"
     ]
    }
   ],
   "source": [
    "#============================ For testing =============================\n",
    "state_codes=[\"WM\",\"WW\",\"BM\",\"BW\"]\n",
    "\n",
    "for state_code in state_codes:\n",
    "    state_name=state_code\n",
    "    adult_dataset = ADULT(name_state=state_name)\n",
    "    adult_dataset.standardize()\n",
    "    dataset = TensorDataset(adult_dataset.Xtrain, adult_dataset.ytrain)\n",
    "    dataloader = DataLoader(dataset, batch_size=32, shuffle=True)  \n",
    "\n",
    "    with open(f'50_clients_data_testing/client_subG_processed/{state_name}.pkl', 'wb') as f:\n",
    "        pickle.dump(dataloader, f)\n",
    "        \n",
    "    dataset = TensorDataset(adult_dataset.Xtest, adult_dataset.ytest)\n",
    "    dataloader = DataLoader(dataset, batch_size=32, shuffle=True)  \n",
    "    \n",
    "    with open(f'50_clients_data_testing/client_subG_processed/{state_name}_test.pkl', 'wb') as f:\n",
    "        pickle.dump(dataloader, f)"
   ]
  },
  {
   "cell_type": "code",
   "execution_count": null,
   "id": "2bbfef7f-216b-476e-a9e9-66bb6a953bec",
   "metadata": {},
   "outputs": [],
   "source": []
  },
  {
   "cell_type": "code",
   "execution_count": 37,
   "id": "f31e668a-e546-4589-a999-1133c93fa92e",
   "metadata": {},
   "outputs": [
    {
     "data": {
      "text/plain": [
       "tensor([1, 0, 1,  ..., 1, 0, 0])"
      ]
     },
     "execution_count": 37,
     "metadata": {},
     "output_type": "execute_result"
    }
   ],
   "source": []
  },
  {
   "cell_type": "markdown",
   "id": "8e80f5c5",
   "metadata": {},
   "source": [
    "# pytorch 2.3 Loader -- SubGroup Processed"
   ]
  },
  {
   "cell_type": "code",
   "execution_count": 25,
   "id": "85a7760d",
   "metadata": {},
   "outputs": [
    {
     "data": {
      "text/plain": [
       "tensor([[ 0.8240,  0.4534, -0.1193,  ...,  0.1639,  1.0577, -0.7109],\n",
       "        [-1.5274, -0.6060, -0.6266,  ..., -0.6042,  1.0577, -0.7109],\n",
       "        [-0.7884, -0.6060,  0.6416,  ...,  0.1639,  1.0577, -0.7109],\n",
       "        ...,\n",
       "        [ 0.2194, -0.0763, -0.6266,  ..., -2.2941,  1.0577,  1.0041],\n",
       "        [ 0.5553,  2.0425, -0.6266,  ...,  0.1639,  1.0577,  1.6900],\n",
       "        [-1.2587, -0.6060, -0.6266,  ...,  0.1639,  1.0577, -0.7109]])"
      ]
     },
     "execution_count": 25,
     "metadata": {},
     "output_type": "execute_result"
    }
   ],
   "source": [
    "adult_dataset.standardize()\n",
    "adult_dataset.Xtest"
   ]
  },
  {
   "cell_type": "code",
   "execution_count": 6,
   "id": "1be6ab62",
   "metadata": {},
   "outputs": [
    {
     "data": {
      "text/plain": [
       "tensor([1, 0, 1,  ..., 0, 0, 1])"
      ]
     },
     "execution_count": 6,
     "metadata": {},
     "output_type": "execute_result"
    }
   ],
   "source": [
    "adult_dataset.ytrain"
   ]
  },
  {
   "cell_type": "code",
   "execution_count": 29,
   "id": "c822309b",
   "metadata": {},
   "outputs": [
    {
     "data": {
      "text/plain": [
       "tensor([-1.5274, -0.6060, -0.6266,  1.2704,  0.2804, -0.7157, -0.1148, -0.6042,\n",
       "         1.0577, -0.7109])"
      ]
     },
     "execution_count": 29,
     "metadata": {},
     "output_type": "execute_result"
    }
   ],
   "source": [
    "adult_dataset.Xtest[1]"
   ]
  },
  {
   "cell_type": "code",
   "execution_count": 23,
   "id": "95a2aa9f",
   "metadata": {},
   "outputs": [
    {
     "data": {
      "text/plain": [
       "tensor([[55.,  3., 18.,  ..., 40.,  2.,  1.],\n",
       "        [20.,  1., 16.,  ..., 30.,  2.,  1.],\n",
       "        [31.,  1., 21.,  ..., 40.,  2.,  1.],\n",
       "        ...,\n",
       "        [46.,  2., 16.,  ...,  8.,  2.,  6.],\n",
       "        [51.,  6., 16.,  ..., 40.,  2.,  8.],\n",
       "        [24.,  1., 16.,  ..., 40.,  2.,  1.]])"
      ]
     },
     "execution_count": 23,
     "metadata": {},
     "output_type": "execute_result"
    }
   ],
   "source": [
    "adult_dataset.de_standardize()\n",
    "adult_dataset.Xtest"
   ]
  },
  {
   "cell_type": "code",
   "execution_count": 8,
   "id": "73b6b814-f7b4-440b-a201-19fcd3279ea8",
   "metadata": {},
   "outputs": [
    {
     "name": "stdout",
     "output_type": "stream",
     "text": [
      "AL\n",
      "AL 17814\n",
      "[0. 1.]\n",
      "[0. 1.]\n"
     ]
    }
   ],
   "source": [
    "for state_code in state_codes:\n",
    "    state_name=state_code\n",
    "    adult_dataset = ADULT(name_state=state_name)\n",
    "    adult_dataset.standardize()\n",
    "    # dataset = TensorDataset(adult_dataset.Xtrain, adult_dataset.ytrain)\n",
    "    # dataloader = DataLoader(dataset, batch_size=32, shuffle=True)  \n",
    "\n",
    "    # with open(f'50_clients_data/processed_data/{state_name}.pkl', 'wb') as f:\n",
    "    #     pickle.dump(dataloader, f)\n",
    "        \n",
    "    dataset = TensorDataset(adult_dataset.Xtest, adult_dataset.ytest)\n",
    "    dataloader = DataLoader(dataset, batch_size=32, shuffle=True)  \n",
    "    \n",
    "    with open(f'50_clients_data/processed_data/{state_name}_test.pkl', 'wb') as f:\n",
    "        pickle.dump(dataloader, f)"
   ]
  },
  {
   "cell_type": "code",
   "execution_count": null,
   "id": "aa3ef5cb-74a0-4033-a2fc-3172210a75e2",
   "metadata": {},
   "outputs": [],
   "source": []
  },
  {
   "cell_type": "code",
   "execution_count": 5,
   "id": "5dc00f21-4b92-4079-bdbb-40274a50b82a",
   "metadata": {},
   "outputs": [
    {
     "data": {
      "text/plain": [
       "32"
      ]
     },
     "execution_count": 5,
     "metadata": {},
     "output_type": "execute_result"
    }
   ],
   "source": [
    "state_name=\"AL\"\n",
    "\n",
    "client_data_dir=\"50_clients_data/processed_data/\"\n",
    "\n",
    "with open(client_data_dir+f'{state_name}.pkl', 'rb') as f:\n",
    "    train_data_all_client  = pickle.load(f)\n",
    "\n",
    "len(train_data_all_client)*32"
   ]
  },
  {
   "cell_type": "code",
   "execution_count": null,
   "id": "0e7eddfd-e8a9-4e03-a822-b198284c537d",
   "metadata": {},
   "outputs": [],
   "source": []
  },
  {
   "cell_type": "code",
   "execution_count": 6,
   "id": "430fbbf3-4112-4b0f-9723-d6471e6251e6",
   "metadata": {},
   "outputs": [],
   "source": [
    "# state_name=state_code\n",
    "# adult_dataset = ADULT(name_state=state_name)"
   ]
  },
  {
   "cell_type": "code",
   "execution_count": 7,
   "id": "8c8ae69e-fc5b-4b41-adfd-49c9f8d6b1c3",
   "metadata": {},
   "outputs": [],
   "source": [
    "# adult_dataset.standardize()"
   ]
  },
  {
   "cell_type": "code",
   "execution_count": 8,
   "id": "ce26346e-4df0-4b96-bef1-f3e2883f7fed",
   "metadata": {},
   "outputs": [],
   "source": [
    "# adult_dataset.Xtrain"
   ]
  },
  {
   "cell_type": "code",
   "execution_count": null,
   "id": "d60ba364-92a2-443f-947b-db96d3fba52e",
   "metadata": {},
   "outputs": [],
   "source": []
  },
  {
   "cell_type": "code",
   "execution_count": 9,
   "id": "9b37538d-b8ef-48fa-9d01-cce848dde54b",
   "metadata": {},
   "outputs": [],
   "source": [
    "# dataset = TensorDataset(adult_dataset.Xtrain, adult_dataset.ytrain)\n",
    "# dataloader = DataLoader(dataset, batch_size=32, shuffle=True)  \n",
    "\n",
    "# with open(f'50_clients_data/processed_data/{sta_name}.pkl', 'wb') as f:\n",
    "#     pickle.dump(dataloader, f)\n",
    "\n",
    "\n",
    "# dataset = TensorDataset(adult_dataset.Xtest, adult_dataset.ytest)\n",
    "# dataloader = DataLoader(dataset, batch_size=32, shuffle=True)  \n",
    "\n",
    "# with open(f'50_clients_data/processed_data/{sta_name}_test.pkl', 'wb') as f:\n",
    "#     pickle.dump(dataloader, f)"
   ]
  },
  {
   "cell_type": "code",
   "execution_count": null,
   "id": "a47b022b-9976-4d40-9760-41d7b59c8826",
   "metadata": {},
   "outputs": [],
   "source": []
  },
  {
   "cell_type": "code",
   "execution_count": null,
   "id": "77b0a962-a7ff-47ec-9c6b-bfa51d6eb27a",
   "metadata": {},
   "outputs": [],
   "source": []
  },
  {
   "cell_type": "code",
   "execution_count": null,
   "id": "886a6fc8-0069-40c2-b84f-6b2e81733e3e",
   "metadata": {},
   "outputs": [],
   "source": []
  },
  {
   "cell_type": "code",
   "execution_count": null,
   "id": "c1e1876a-a462-469b-836b-f219f6e10f6e",
   "metadata": {},
   "outputs": [],
   "source": []
  },
  {
   "cell_type": "code",
   "execution_count": null,
   "id": "2f39db6b-cf9f-48b3-abf2-9d6c49f9bea7",
   "metadata": {},
   "outputs": [],
   "source": []
  },
  {
   "cell_type": "code",
   "execution_count": 12,
   "id": "38db4a32-098c-4eab-80a9-3237a7dd8102",
   "metadata": {},
   "outputs": [
    {
     "data": {
      "text/plain": [
       "0.8267145506990579"
      ]
     },
     "execution_count": 12,
     "metadata": {},
     "output_type": "execute_result"
    }
   ],
   "source": [
    "0.6602031394275162/0.7985865724381626"
   ]
  },
  {
   "cell_type": "code",
   "execution_count": 14,
   "id": "3abe808b-14bf-43e6-bc14-289b6cfcc832",
   "metadata": {},
   "outputs": [
    {
     "data": {
      "text/html": [
       "<div>\n",
       "<style scoped>\n",
       "    .dataframe tbody tr th:only-of-type {\n",
       "        vertical-align: middle;\n",
       "    }\n",
       "\n",
       "    .dataframe tbody tr th {\n",
       "        vertical-align: top;\n",
       "    }\n",
       "\n",
       "    .dataframe thead th {\n",
       "        text-align: right;\n",
       "    }\n",
       "</style>\n",
       "<table border=\"1\" class=\"dataframe\">\n",
       "  <thead>\n",
       "    <tr style=\"text-align: right;\">\n",
       "      <th></th>\n",
       "      <th>male_to_female</th>\n",
       "      <th>white_to_black</th>\n",
       "    </tr>\n",
       "  </thead>\n",
       "  <tbody>\n",
       "    <tr>\n",
       "      <th>AL</th>\n",
       "      <td>0.826715</td>\n",
       "      <td>0.890554</td>\n",
       "    </tr>\n",
       "    <tr>\n",
       "      <th>AK</th>\n",
       "      <td>0.828399</td>\n",
       "      <td>0.839019</td>\n",
       "    </tr>\n",
       "  </tbody>\n",
       "</table>\n",
       "</div>"
      ],
      "text/plain": [
       "    male_to_female  white_to_black\n",
       "AL        0.826715        0.890554\n",
       "AK        0.828399        0.839019"
      ]
     },
     "execution_count": 14,
     "metadata": {},
     "output_type": "execute_result"
    }
   ],
   "source": [
    "import pandas as pd\n",
    "\n",
    "# The input dictionary\n",
    "data = {\n",
    "    'AL': {'male': 0.7985865724381626, 'female': 0.6602031394275162, 'white': 0.7411894273127754, 'black': 0.6600688468158348},\n",
    "    'AK': {'male': 0.7442977190876351, 'female': 0.6165755919854281, 'white': 0.706441393875396, 'black': 0.5927180355630821}\n",
    "}\n",
    "results_fixed = {}\n",
    "\n",
    "# Iterate through each key in the data\n",
    "for state, values in data.items():\n",
    "    # male_to_female: ensure male is the numerator\n",
    "    male_to_female = values['male'] / values['female'] if values['male'] < values['female'] else values['female'] / values['male']\n",
    "    \n",
    "    # white_to_black: ensure white is the numerator\n",
    "    white_to_black = values['white'] / values['black'] if values['white'] < values['black'] else values['black'] / values['white']\n",
    "    \n",
    "    # Store the updated results for each state\n",
    "    results_fixed[state] = {\n",
    "        'male_to_female': male_to_female,\n",
    "        'white_to_black': white_to_black\n",
    "    }\n",
    "\n",
    "# Convert the results dictionary to a DataFrame\n",
    "df_extended = pd.DataFrame(results_fixed).T\n",
    "\n",
    "df_extended"
   ]
  },
  {
   "cell_type": "code",
   "execution_count": 16,
   "id": "5d223db8-45dc-473e-a9c8-25466aa142ad",
   "metadata": {},
   "outputs": [],
   "source": [
    "df1 = df_extended.copy()\n",
    "df2 = df_extended.copy()\n",
    "df3 = df_extended.copy()\n",
    "df4 = df_extended.copy()\n",
    "\n"
   ]
  },
  {
   "cell_type": "code",
   "execution_count": 18,
   "id": "6e7d07a4-dfca-469b-ab32-cfac3219b1f0",
   "metadata": {},
   "outputs": [
    {
     "name": "stdout",
     "output_type": "stream",
     "text": [
      "Collecting matplotlib\n",
      "  Using cached matplotlib-3.7.5-cp38-cp38-manylinux_2_12_x86_64.manylinux2010_x86_64.whl.metadata (5.7 kB)\n",
      "Collecting contourpy>=1.0.1 (from matplotlib)\n",
      "  Using cached contourpy-1.1.1-cp38-cp38-manylinux_2_17_x86_64.manylinux2014_x86_64.whl.metadata (5.9 kB)\n",
      "Collecting cycler>=0.10 (from matplotlib)\n",
      "  Using cached cycler-0.12.1-py3-none-any.whl.metadata (3.8 kB)\n",
      "Collecting fonttools>=4.22.0 (from matplotlib)\n",
      "  Downloading fonttools-4.54.1-cp38-cp38-manylinux_2_17_x86_64.manylinux2014_x86_64.whl.metadata (163 kB)\n",
      "\u001b[2K     \u001b[38;2;114;156;31m━━━━━━━━━━━━━━━━━━━━━━━━━━━━━━━━━━━━━━━\u001b[0m \u001b[32m163.7/163.7 kB\u001b[0m \u001b[31m5.1 MB/s\u001b[0m eta \u001b[36m0:00:00\u001b[0m\n",
      "\u001b[?25hCollecting kiwisolver>=1.0.1 (from matplotlib)\n",
      "  Downloading kiwisolver-1.4.7-cp38-cp38-manylinux_2_5_x86_64.manylinux1_x86_64.whl.metadata (6.3 kB)\n",
      "Requirement already satisfied: numpy<2,>=1.20 in /root/anaconda3/envs/myenv_torch2/lib/python3.8/site-packages (from matplotlib) (1.24.4)\n",
      "Requirement already satisfied: packaging>=20.0 in /root/.local/lib/python3.8/site-packages (from matplotlib) (24.0)\n",
      "Requirement already satisfied: pillow>=6.2.0 in /root/anaconda3/envs/myenv_torch2/lib/python3.8/site-packages (from matplotlib) (10.3.0)\n",
      "Collecting pyparsing>=2.3.1 (from matplotlib)\n",
      "  Downloading pyparsing-3.1.4-py3-none-any.whl.metadata (5.1 kB)\n",
      "Requirement already satisfied: python-dateutil>=2.7 in /root/.local/lib/python3.8/site-packages (from matplotlib) (2.9.0.post0)\n",
      "Requirement already satisfied: importlib-resources>=3.2.0 in /root/anaconda3/envs/myenv_torch2/lib/python3.8/site-packages (from matplotlib) (6.1.1)\n",
      "Requirement already satisfied: zipp>=3.1.0 in /root/.local/lib/python3.8/site-packages (from importlib-resources>=3.2.0->matplotlib) (3.18.0)\n",
      "Requirement already satisfied: six>=1.5 in /root/.local/lib/python3.8/site-packages (from python-dateutil>=2.7->matplotlib) (1.16.0)\n",
      "Using cached matplotlib-3.7.5-cp38-cp38-manylinux_2_12_x86_64.manylinux2010_x86_64.whl (9.2 MB)\n",
      "Using cached contourpy-1.1.1-cp38-cp38-manylinux_2_17_x86_64.manylinux2014_x86_64.whl (301 kB)\n",
      "Using cached cycler-0.12.1-py3-none-any.whl (8.3 kB)\n",
      "Downloading fonttools-4.54.1-cp38-cp38-manylinux_2_17_x86_64.manylinux2014_x86_64.whl (4.7 MB)\n",
      "\u001b[2K   \u001b[38;2;114;156;31m━━━━━━━━━━━━━━━━━━━━━━━━━━━━━━━━━━━━━━━━\u001b[0m \u001b[32m4.7/4.7 MB\u001b[0m \u001b[31m55.3 MB/s\u001b[0m eta \u001b[36m0:00:00\u001b[0mm eta \u001b[36m0:00:01\u001b[0m0:01\u001b[0m\n",
      "\u001b[?25hDownloading kiwisolver-1.4.7-cp38-cp38-manylinux_2_5_x86_64.manylinux1_x86_64.whl (1.2 MB)\n",
      "\u001b[2K   \u001b[38;2;114;156;31m━━━━━━━━━━━━━━━━━━━━━━━━━━━━━━━━━━━━━━━━\u001b[0m \u001b[32m1.2/1.2 MB\u001b[0m \u001b[31m49.7 MB/s\u001b[0m eta \u001b[36m0:00:00\u001b[0m\n",
      "\u001b[?25hDownloading pyparsing-3.1.4-py3-none-any.whl (104 kB)\n",
      "\u001b[2K   \u001b[38;2;114;156;31m━━━━━━━━━━━━━━━━━━━━━━━━━━━━━━━━━━━━━━━━\u001b[0m \u001b[32m104.1/104.1 kB\u001b[0m \u001b[31m11.5 MB/s\u001b[0m eta \u001b[36m0:00:00\u001b[0m\n",
      "\u001b[?25hInstalling collected packages: pyparsing, kiwisolver, fonttools, cycler, contourpy, matplotlib\n",
      "Successfully installed contourpy-1.1.1 cycler-0.12.1 fonttools-4.54.1 kiwisolver-1.4.7 matplotlib-3.7.5 pyparsing-3.1.4\n",
      "\u001b[33mWARNING: Running pip as the 'root' user can result in broken permissions and conflicting behaviour with the system package manager. It is recommended to use a virtual environment instead: https://pip.pypa.io/warnings/venv\u001b[0m\u001b[33m\n",
      "\u001b[0m"
     ]
    }
   ],
   "source": [
    "!pip install matplotlib"
   ]
  },
  {
   "cell_type": "code",
   "execution_count": 20,
   "id": "067e7e84-6d73-4379-abdb-89054d2141a0",
   "metadata": {},
   "outputs": [
    {
     "data": {
      "image/png": "[encoded data removed]",
      "text/plain": [
       "<Figure size 800x600 with 1 Axes>"
      ]
     },
     "metadata": {},
     "output_type": "display_data"
    },
    {
     "data": {
      "image/png": "[encoded data removed]",
      "text/plain": [
       "<Figure size 800x600 with 1 Axes>"
      ]
     },
     "metadata": {},
     "output_type": "display_data"
    }
   ],
   "source": [
    "# Create two figures, one for male_to_female and one for white_to_black\n",
    "\n",
    "# First figure for male_to_female\n",
    "fig1, ax1 = plt.subplots(figsize=(8, 6))\n",
    "df_list = [df1['male_to_female'], df2['male_to_female'], df3['male_to_female'], df4['male_to_female']]\n",
    "ax1.boxplot(df_list, labels=['DataFrame 1', 'DataFrame 2', 'DataFrame 3', 'DataFrame 4'])\n",
    "ax1.set_title('Male to Female Ratios')\n",
    "ax1.set_ylabel('Ratio')\n",
    "\n",
    "# Second figure for white_to_black\n",
    "fig2, ax2 = plt.subplots(figsize=(8, 6))\n",
    "df_list = [df1['white_to_black'], df2['white_to_black'], df3['white_to_black'], df4['white_to_black']]\n",
    "ax2.boxplot(df_list, labels=['DataFrame 1', 'DataFrame 2', 'DataFrame 3', 'DataFrame 4'])\n",
    "ax2.set_title('White to Black Ratios')\n",
    "ax2.set_ylabel('Ratio')\n",
    "\n",
    "# Show both figures\n",
    "plt.show()\n"
   ]
  },
  {
   "cell_type": "code",
   "execution_count": null,
   "id": "9a3b7661-bd99-4124-96e7-456e10865b41",
   "metadata": {},
   "outputs": [],
   "source": []
  }
 ],
 "metadata": {
  "kernelspec": {
   "display_name": "Python 3 (ipykernel)",
   "language": "python",
   "name": "python3"
  },
  "language_info": {
   "codemirror_mode": {
    "name": "ipython",
    "version": 3
   },
   "file_extension": ".py",
   "mimetype": "text/x-python",
   "name": "python",
   "nbconvert_exporter": "python",
   "pygments_lexer": "ipython3",
   "version": "3.8.18"
  }
 },
 "nbformat": 4,
 "nbformat_minor": 5
}
