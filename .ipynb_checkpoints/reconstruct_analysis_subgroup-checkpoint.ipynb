{
 "cells": [
  {
   "cell_type": "code",
   "execution_count": 27,
   "id": "139fca6d-ac54-42a4-8b11-9fda4e4ebdbe",
   "metadata": {},
   "outputs": [],
   "source": [
    "import os\n",
    "import attacks\n",
    "import numpy as np\n",
    "import torch\n",
    "# from utils.matching_modified_1 import match_reconstruction_ground_truth\n",
    "from utils.matching import match_reconstruction_ground_truth\n",
    "import pandas as pd\n",
    "from utils import Timer, post_process_continuous\n",
    "from attacks import train_and_attack_fed_avg\n",
    "from models import FullyConnected\n",
    "import matplotlib.pyplot as plt\n",
    "import argparse\n",
    "import pickle\n",
    "from attacks import calculate_random_baseline\n",
    "# from datasets.adult_modified import ADULT\n",
    "from datasets.base_dataset import BaseDataset\n"
   ]
  },
  {
   "cell_type": "code",
   "execution_count": 2,
   "id": "1dac556c-0c0e-4208-a599-07e9f0f29b85",
   "metadata": {},
   "outputs": [],
   "source": [
    "configs = {\n",
    "    # Inverting Gradients\n",
    "    0: {\n",
    "        'n_global_epochs': 1,\n",
    "        'lr': 0.01,\n",
    "        'shuffle': True,\n",
    "        'attacked_clients': 'all',\n",
    "        'attack_iterations': 1500,\n",
    "        'reconstruction_loss': 'cosine_sim',\n",
    "        'priors': None,\n",
    "        'epoch_matching_prior': 'mean_squared_error',\n",
    "        'post_selection': 1,\n",
    "        'attack_learning_rate': 0.06,\n",
    "        'return_all': False,\n",
    "        'pooling': None,\n",
    "        'perfect_pooling': False,\n",
    "        'initialization_mode': 'uniform',\n",
    "        'softmax_trick': False,\n",
    "        'gumbel_softmax_trick': False,\n",
    "        'sigmoid_trick': False,\n",
    "        'temperature_mode': 'constant',\n",
    "        'sign_trick': True,\n",
    "        'verbose': False,\n",
    "        'max_client_dataset_size': 32,\n",
    "        'post_process_cont': False\n",
    "    },\n",
    "    # TabLeak\n",
    "    52: {\n",
    "        'n_global_epochs': 1,\n",
    "        'lr': 0.01,\n",
    "        'shuffle': True,\n",
    "        'attacked_clients': 'all',\n",
    "        'attack_iterations': 1500,\n",
    "        'reconstruction_loss': 'cosine_sim',\n",
    "        'priors': None,\n",
    "        'epoch_matching_prior': 'mean_squared_error',\n",
    "        'post_selection': 15,\n",
    "        'attack_learning_rate': 0.06,\n",
    "        'return_all': False,\n",
    "        'pooling': 'median',\n",
    "        'perfect_pooling': False,\n",
    "        'initialization_mode': 'uniform',\n",
    "        'softmax_trick': True,\n",
    "        'gumbel_softmax_trick': False,\n",
    "        'sigmoid_trick': True,\n",
    "        'temperature_mode': 'constant',\n",
    "        'sign_trick': True,\n",
    "        'verbose': False,\n",
    "        'max_client_dataset_size': 32,\n",
    "        'post_process_cont': False\n",
    "    }\n",
    "}"
   ]
  },
  {
   "cell_type": "code",
   "execution_count": 3,
   "id": "35ecef6a-1c86-4004-bea9-17730e524dbe",
   "metadata": {},
   "outputs": [],
   "source": [
    "client_models = [\"AL\", \"AK\", \"AZ\", \"AR\", \"CA\", \"CO\", \"CT\", \"DE\", \"FL\", \"GA\",\n",
    "               \"HI\", \"ID\", \"IL\", \"IN\", \"IA\", \"KS\", \"KY\", \"LA\", \"ME\", \"MD\",\n",
    "               \"MA\", \"MI\", \"MN\", \"MS\", \"MO\", \"MT\", \"NE\", \"NV\", \"NH\", \"NJ\",\n",
    "               \"NM\", \"NY\", \"NC\", \"ND\", \"OH\", \"OK\", \"OR\", \"PA\", \"RI\", \"SC\",\n",
    "               \"SD\", \"TN\", \"TX\", \"UT\", \"VT\", \"VA\", \"WA\", \"WV\", \"WI\", \"WY\"]\n",
    "\n",
    "# client_models = [\"AL\",\"AK\", \"AZ\"]\n",
    "\n",
    "# testing_data=[\"WM\",\"WW\",\"BM\",\"BW\"]"
   ]
  },
  {
   "cell_type": "code",
   "execution_count": 4,
   "id": "ec27b3d4-7619-48ad-b564-81685ea9653f",
   "metadata": {},
   "outputs": [
    {
     "data": {
      "text/html": [
       "<div>\n",
       "<style scoped>\n",
       "    .dataframe tbody tr th:only-of-type {\n",
       "        vertical-align: middle;\n",
       "    }\n",
       "\n",
       "    .dataframe tbody tr th {\n",
       "        vertical-align: top;\n",
       "    }\n",
       "\n",
       "    .dataframe thead th {\n",
       "        text-align: right;\n",
       "    }\n",
       "</style>\n",
       "<table border=\"1\" class=\"dataframe\">\n",
       "  <thead>\n",
       "    <tr style=\"text-align: right;\">\n",
       "      <th></th>\n",
       "      <th>State</th>\n",
       "      <th>Male_Count</th>\n",
       "      <th>Female_Count</th>\n",
       "      <th>White_Count</th>\n",
       "      <th>Black_Count</th>\n",
       "    </tr>\n",
       "  </thead>\n",
       "  <tbody>\n",
       "    <tr>\n",
       "      <th>0</th>\n",
       "      <td>AL</td>\n",
       "      <td>1038</td>\n",
       "      <td>962</td>\n",
       "      <td>1588</td>\n",
       "      <td>412</td>\n",
       "    </tr>\n",
       "    <tr>\n",
       "      <th>1</th>\n",
       "      <td>AK</td>\n",
       "      <td>1129</td>\n",
       "      <td>871</td>\n",
       "      <td>1932</td>\n",
       "      <td>68</td>\n",
       "    </tr>\n",
       "    <tr>\n",
       "      <th>2</th>\n",
       "      <td>AZ</td>\n",
       "      <td>1052</td>\n",
       "      <td>948</td>\n",
       "      <td>1912</td>\n",
       "      <td>88</td>\n",
       "    </tr>\n",
       "    <tr>\n",
       "      <th>3</th>\n",
       "      <td>AR</td>\n",
       "      <td>1026</td>\n",
       "      <td>974</td>\n",
       "      <td>1807</td>\n",
       "      <td>193</td>\n",
       "    </tr>\n",
       "    <tr>\n",
       "      <th>4</th>\n",
       "      <td>CA</td>\n",
       "      <td>1070</td>\n",
       "      <td>930</td>\n",
       "      <td>1856</td>\n",
       "      <td>144</td>\n",
       "    </tr>\n",
       "  </tbody>\n",
       "</table>\n",
       "</div>"
      ],
      "text/plain": [
       "  State  Male_Count  Female_Count  White_Count  Black_Count\n",
       "0    AL        1038           962         1588          412\n",
       "1    AK        1129           871         1932           68\n",
       "2    AZ        1052           948         1912           88\n",
       "3    AR        1026           974         1807          193\n",
       "4    CA        1070           930         1856          144"
      ]
     },
     "execution_count": 4,
     "metadata": {},
     "output_type": "execute_result"
    }
   ],
   "source": [
    "gt_info=pd.read_csv('50_clients_data/state_sex_race_counts.csv')\n",
    "gt_info.head()"
   ]
  },
  {
   "cell_type": "code",
   "execution_count": 5,
   "id": "f89851af-2e74-4cd7-9b96-c49c1c3da343",
   "metadata": {},
   "outputs": [],
   "source": [
    "\n",
    "\n",
    "def group_filter(client_gt_projected, client_recon_projected, index, value):\n",
    "    # print(\"group_filter applied\")\n",
    "    print(\"index: \",index, \"value: \",value)\n",
    "    filtered_gt = client_gt_projected[client_gt_projected[:, index] == value]\n",
    "    filtered_recon = client_recon_projected[client_gt_projected[:, index] == value]\n",
    "    return filtered_gt, filtered_recon\n",
    "\n",
    "\n",
    "def subgroup_filter(client_gt_projected, client_recon_projected, index1, value1, index2, value2):\n",
    "    # print(\"subgroup_filter applied\")\n",
    "    print(\"index1: \", index1,\"value1: \", value1, \"index2: \",index2,\"value2: \", value2)\n",
    "    condition = (client_gt_projected[:, index1] == value1) & (client_gt_projected[:, index2] == value2)\n",
    "    filtered_gt = client_gt_projected[condition]\n",
    "    filtered_recon = client_recon_projected[condition]\n",
    "    return filtered_gt, filtered_recon\n"
   ]
  },
  {
   "cell_type": "markdown",
   "id": "57faf477-b878-4433-bcec-7b38e61a5ae9",
   "metadata": {},
   "source": [
    "# Normal"
   ]
  },
  {
   "cell_type": "code",
   "execution_count": 6,
   "id": "ab634ea1-ac6a-451b-9fc7-bf2e30680f5a",
   "metadata": {},
   "outputs": [
    {
     "name": "stdout",
     "output_type": "stream",
     "text": [
      "Inversion Normal attack\n",
      "----------- Model_name --------------:  AL\n",
      "(2000, 10) (2000, 10)\n",
      "index1:  8 value1:  1 index2:  9 value2:  1\n",
      "(851, 10) (851, 10)\n",
      "index1:  8 value1:  1 index2:  9 value2:  2\n",
      "(186, 10) (186, 10)\n",
      "index1:  8 value1:  2 index2:  9 value2:  1\n",
      "(736, 10) (736, 10)\n",
      "index1:  8 value1:  2 index2:  9 value2:  2\n",
      "(227, 10) (227, 10)\n",
      "----------- Model_name --------------:  AK\n",
      "(2000, 10) (2000, 10)\n",
      "index1:  8 value1:  1 index2:  9 value2:  1\n",
      "(1101, 10) (1101, 10)\n",
      "index1:  8 value1:  1 index2:  9 value2:  2\n",
      "(39, 10) (39, 10)\n",
      "index1:  8 value1:  2 index2:  9 value2:  1\n",
      "(832, 10) (832, 10)\n",
      "index1:  8 value1:  2 index2:  9 value2:  2\n",
      "(28, 10) (28, 10)\n",
      "----------- Model_name --------------:  AZ\n",
      "(2000, 10) (2000, 10)\n",
      "index1:  8 value1:  1 index2:  9 value2:  1\n",
      "(1015, 10) (1015, 10)\n",
      "index1:  8 value1:  1 index2:  9 value2:  2\n",
      "(49, 10) (49, 10)\n",
      "index1:  8 value1:  2 index2:  9 value2:  1\n",
      "(896, 10) (896, 10)\n",
      "index1:  8 value1:  2 index2:  9 value2:  2\n",
      "(40, 10) (40, 10)\n"
     ]
    }
   ],
   "source": [
    "exp1 = \"tableak_FT_inversion_normal\"\n",
    "config = configs[0]\n",
    "final_grp={}\n",
    "final_subgrp={}\n",
    "\n",
    "print(\"Inversion Normal attack\")\n",
    "num_training_datapoints=2000\n",
    "\n",
    "final_all_errors = []\n",
    "final_cat_errors = []\n",
    "final_cont_errors = []\n",
    "\n",
    "final_all_errors_full = []\n",
    "final_cat_errors_full = []\n",
    "final_cont_errors_full = []\n",
    "\n",
    "\n",
    "for model_name in client_models:\n",
    "    print(\"----------- Model_name --------------: \",model_name)\n",
    "    temp_result={}\n",
    "    \n",
    "    recn_gt = f'../{exp1}/50_clients_data/reconstr_and_GT/reconstructions_ground_truths_{model_name}.pkl'\n",
    "    dataset = f'../{exp1}/50_clients_data/reconstr_and_GT/dataset_{model_name}.pkl'\n",
    "    tolerance_map = f'../{exp1}/50_clients_data/reconstr_and_GT/tolerance_map_{model_name}.pkl'\n",
    "\n",
    "    with open(recn_gt, 'rb') as file:\n",
    "        recn_gt = pickle.load(file)\n",
    "\n",
    "    with open(dataset, 'rb') as file:\n",
    "        dataset = pickle.load(file)\n",
    "    \n",
    "    with open(tolerance_map, 'rb') as file:\n",
    "        tolerance_map = pickle.load(file)\n",
    "\n",
    "    reconstructions = recn_gt['reconstructions']\n",
    "    ground_truths = recn_gt['ground_truths']\n",
    "\n",
    "    all_errors = []\n",
    "    cat_errors = []\n",
    "    cont_errors = []\n",
    "    \n",
    "    all_errors_full = []\n",
    "    cat_errors_full = []\n",
    "    cont_errors_full = []\n",
    "    \n",
    "    temp_all_errors = []\n",
    "    temp_cat_errors = []\n",
    "    temp_cont_errors = []\n",
    "    \n",
    "    match_results = {}\n",
    "    # index_value_pairs = [(8, 1),(8, 2), (9, 1), (9, 2)]\n",
    "    subgroup_pairs = [\n",
    "    [(8, 1), (9, 1)], # WM\n",
    "    [(8, 1), (9, 2)], # BM\n",
    "    [(8, 2), (9, 1)], # WW\n",
    "    [(8, 2), (9, 2)]  # BW\n",
    "    ]\n",
    "\n",
    "    for epoch_reconstruction, epoch_ground_truth in zip(reconstructions, ground_truths):\n",
    "        for client_reconstruction, client_ground_truth in zip(epoch_reconstruction, epoch_ground_truth):\n",
    "            if config['post_process_cont']:\n",
    "                client_reconstruction = post_process_continuous(client_reconstruction, dataset=dataset)\n",
    "            client_recon_projected, client_gt_projected = dataset.decode_batch(client_reconstruction, standardized=True), dataset.decode_batch(client_ground_truth, standardized=True)\n",
    "                    \n",
    "            print(client_gt_projected.shape, client_recon_projected.shape)\n",
    "                    \n",
    "            _, batch_cost_all_original, batch_cost_cat_original, batch_cost_cont_original = match_reconstruction_ground_truth(\n",
    "                                client_gt_projected, client_recon_projected, tolerance_map\n",
    "                                )\n",
    "            all_errors_full.append(np.mean(batch_cost_all_original))\n",
    "            cat_errors_full.append(np.mean(batch_cost_cat_original))\n",
    "            cont_errors_full.append(np.mean(batch_cost_cont_original))  \n",
    "\n",
    "            final_all_errors_full.append(all_errors_full)\n",
    "            final_cat_errors_full.append(cat_errors_full)\n",
    "            final_cont_errors_full.append(cont_errors_full) \n",
    "            \n",
    "            for (index1, value1), (index2, value2) in subgroup_pairs:\n",
    "\n",
    "                temp_all_errors = []\n",
    "                temp_cat_errors = []\n",
    "                temp_cont_errors = []\n",
    "                \n",
    "                filtered_gt, filtered_recon = subgroup_filter(client_gt_projected, client_recon_projected, index1, value1, index2, value2)\n",
    "                # filtered_gt, filtered_recon = group_filter(client_gt_projected, client_recon_projected, index=index, value=value)        \n",
    "                print(filtered_gt.shape, filtered_recon.shape)\n",
    "    \n",
    "                # Call match_reconstruction_ground_truth with the filtered results\n",
    "                _, batch_cost_all, batch_cost_cat, batch_cost_cont = match_reconstruction_ground_truth(filtered_gt, filtered_recon, tolerance_map)\n",
    "                \n",
    "                temp_all_errors.append(np.mean(batch_cost_all))\n",
    "                temp_cat_errors.append(np.mean(batch_cost_cat))\n",
    "                temp_cont_errors.append(np.mean(batch_cost_cont))  \n",
    "    \n",
    "                all_errors.append(temp_all_errors)\n",
    "                cat_errors.append(temp_cat_errors)\n",
    "                cont_errors.append(temp_cont_errors) \n",
    "                \n",
    "            final_all_errors.append(all_errors)\n",
    "            final_cat_errors.append(cat_errors)\n",
    "            final_cont_errors.append(cont_errors)         "
   ]
  },
  {
   "cell_type": "code",
   "execution_count": 7,
   "id": "d24356c6-f659-42f1-af96-2c6c934e16f2",
   "metadata": {},
   "outputs": [
    {
     "data": {
      "text/plain": [
       "[[0.3227727272727272], [0.3154545454545454], [0.2970454545454545]]"
      ]
     },
     "execution_count": 7,
     "metadata": {},
     "output_type": "execute_result"
    }
   ],
   "source": [
    "final_all_errors_full"
   ]
  },
  {
   "cell_type": "code",
   "execution_count": 8,
   "id": "0d7fe621-a9c9-46a8-88f2-3aa727f9f418",
   "metadata": {},
   "outputs": [
    {
     "data": {
      "text/plain": [
       "[[[0.404764448242709],\n",
       "  [0.4902248289345063],\n",
       "  [0.3569664031620553],\n",
       "  [0.43852623147777325]],\n",
       " [[0.3530674593344893],\n",
       "  [0.5594405594405596],\n",
       "  [0.3603583916083916],\n",
       "  [0.5357142857142857]],\n",
       " [[0.347783251231527],\n",
       "  [0.5102040816326531],\n",
       "  [0.32863230519480513],\n",
       "  [0.5204545454545455]]]"
      ]
     },
     "execution_count": 8,
     "metadata": {},
     "output_type": "execute_result"
    }
   ],
   "source": [
    "final_all_errors"
   ]
  },
  {
   "cell_type": "code",
   "execution_count": null,
   "id": "53b2d96f-d158-4a8e-9fca-1168e00d1847",
   "metadata": {},
   "outputs": [],
   "source": []
  },
  {
   "cell_type": "code",
   "execution_count": 9,
   "id": "56a92925-a65f-462c-a40f-22b91058998e",
   "metadata": {},
   "outputs": [],
   "source": [
    "local_epochs=[5]\n",
    "local_batch_sizes=[8]\n",
    "epoch_prior_params=[0.01]\n",
    "all_state_recon={}\n",
    "\n",
    "for m,model_name in enumerate(client_models):\n",
    "    collected_data = np.zeros((len(local_epochs), len(local_batch_sizes), len(epoch_prior_params), 3, 5))\n",
    "    \n",
    "    for i, lepochs in enumerate(local_epochs):\n",
    "        for j, lbatch_size in enumerate(local_batch_sizes):\n",
    "            for k, epoch_prior_param in enumerate(epoch_prior_params):\n",
    "    \n",
    "                collected_data[i, j, k, 0] = np.mean(final_all_errors_full[m]), np.std(final_all_errors_full[m]), np.median(final_all_errors_full[m]), np.min(final_all_errors_full[m]), np.max(final_all_errors_full[m])\n",
    "                collected_data[i, j, k, 1] = np.mean(final_cat_errors_full[m]), np.std(final_cat_errors_full[m]), np.median(final_cat_errors_full[m]), np.min(final_cat_errors_full[m]), np.max(final_cat_errors_full[m])\n",
    "                collected_data[i, j, k, 2] = np.mean(final_cont_errors_full[m]), np.std(final_cont_errors_full[m]), np.median(final_cont_errors_full[m]), np.min(final_cont_errors_full[m]), np.max(final_cont_errors_full[m])\n",
    "    \n",
    "            best_param_index = np.argmin(collected_data[i, j, :, 0, 0]).item()\n",
    "\n",
    "    temp_var=float(100 * (1 - collected_data[i, j, best_param_index, 0, 0]))\n",
    "    all_state_recon[model_name]=temp_var\n",
    "    # print(f'Performance at {lepochs} Epochs and {lbatch_size} Batch Size: {100*(1-collected_data[i, j, best_param_index, 0, 0]):.1f}% +- {100*collected_data[i, j, best_param_index, 0, 1]:.2f}')\n",
    "    # total_recon= 100 * (1 - collected_data[i, j, best_param_index, 0, 0])\n",
    "    # print(\"total_recon: \",total_recon)\n"
   ]
  },
  {
   "cell_type": "code",
   "execution_count": 10,
   "id": "4f065fde-623b-4613-b425-0e35af7c9d25",
   "metadata": {},
   "outputs": [
    {
     "data": {
      "text/plain": [
       "{'AL': 67.72272727272728, 'AK': 68.45454545454545, 'AZ': 70.29545454545455}"
      ]
     },
     "execution_count": 10,
     "metadata": {},
     "output_type": "execute_result"
    }
   ],
   "source": [
    "all_state_recon"
   ]
  },
  {
   "cell_type": "code",
   "execution_count": null,
   "id": "4d109f90-c45b-42b4-8244-57b3449191d7",
   "metadata": {},
   "outputs": [],
   "source": []
  },
  {
   "cell_type": "code",
   "execution_count": 12,
   "id": "01fff3b6-c6db-4dff-bbc9-c720a91ba473",
   "metadata": {},
   "outputs": [
    {
     "name": "stdout",
     "output_type": "stream",
     "text": [
      "Group reconstructed data has been stored in inversion_normal_all_states_reconstruction.pickle\n"
     ]
    }
   ],
   "source": [
    "filename_all_state_inversion = \"inversion_normal_all_states_reconstruction.pickle\"\n",
    "\n",
    "with open(filename_all_state_inversion, 'wb') as file:\n",
    "    pickle.dump(all_state_recon, file)\n",
    "\n",
    "print(f\"All state reconstructed data has been stored in {filename_all_state_inversion}\")\n"
   ]
  },
  {
   "cell_type": "code",
   "execution_count": null,
   "id": "4b771276-547a-48e8-91bb-43617b63894a",
   "metadata": {},
   "outputs": [],
   "source": []
  },
  {
   "cell_type": "code",
   "execution_count": null,
   "id": "0d69122c-f48f-4c09-b01c-5bffd4fc5ed8",
   "metadata": {},
   "outputs": [],
   "source": []
  },
  {
   "cell_type": "code",
   "execution_count": 11,
   "id": "ae153759-bd09-4af4-be39-31eed8f66ce2",
   "metadata": {},
   "outputs": [
    {
     "name": "stdout",
     "output_type": "stream",
     "text": [
      "[[0.404764448242709], [0.4902248289345063], [0.3569664031620553], [0.43852623147777325]]\n",
      "[[0.3530674593344893], [0.5594405594405596], [0.3603583916083916], [0.5357142857142857]]\n",
      "[[0.347783251231527], [0.5102040816326531], [0.32863230519480513], [0.5204545454545455]]\n"
     ]
    }
   ],
   "source": [
    "\n",
    "local_epochs = [5]\n",
    "local_batch_sizes = [8]\n",
    "epoch_prior_params = [0.01]\n",
    "final_group_reco={}\n",
    "for m,model_name in enumerate(client_models):\n",
    "    \n",
    "    temp_group_score=[]\n",
    "    all_errors =final_all_errors[m]\n",
    "    cat_errors=final_cat_errors[m]\n",
    "    cont_errors=final_cont_errors[m]\n",
    "    print(all_errors)\n",
    "    for i in range(len(all_errors)):\n",
    "        collected_data = np.zeros((len(local_epochs), len(local_batch_sizes), len(epoch_prior_params), 3, 5))\n",
    "\n",
    "        for m, lepochs in enumerate(local_epochs): \n",
    "            for j, lbatch_size in enumerate(local_batch_sizes):\n",
    "                for k, epoch_prior_param in enumerate(epoch_prior_params):\n",
    "                    \n",
    "                    collected_data[m, j, k, 0] = np.mean(all_errors[i]), np.std(all_errors[i]), np.median(all_errors[i]), np.min(all_errors[i]), np.max(all_errors[i])\n",
    "                    collected_data[m, j, k, 1] = np.mean(cat_errors[i]), np.std(cat_errors[i]), np.median(cat_errors[i]), np.min(cat_errors[i]), np.max(cat_errors[i])\n",
    "                    collected_data[m, j, k, 2] = np.mean(cont_errors[i]), np.std(cont_errors[i]), np.median(cont_errors[i]), np.min(cont_errors[i]), np.max(cont_errors[i])\n",
    "    \n",
    "                best_param_index = np.argmin(collected_data[m, j, :, 0, 0]).item()\n",
    "    \n",
    "            # print(\"best_param_index\", best_param_index)\n",
    "            # print(f'Performance at {lepochs} Epochs and {lbatch_size} Batch Size: {100*(1-collected_data[m, j, best_param_index, 0, 0]):.1f}% +- {100*collected_data[m, j, best_param_index, 0, 1]:.2f}')\n",
    "            temp_var=float(100 * (1 - collected_data[m, j, best_param_index, 0, 0]))\n",
    "            temp_group_score.append(temp_var)\n",
    "            \n",
    "        # print(temp_group_score)\n",
    "        \n",
    "    final_group_reco[model_name] = {\n",
    "        \"WM\":temp_group_score[0],\n",
    "        \"BM\":temp_group_score[1] ,\n",
    "        \"WW\":temp_group_score[2] ,\n",
    "        \"BW\": temp_group_score[3]\n",
    "    }\n",
    "\n"
   ]
  },
  {
   "cell_type": "code",
   "execution_count": 12,
   "id": "3d1df860-0db3-42cf-a9ce-bde8ef1b6c72",
   "metadata": {},
   "outputs": [
    {
     "data": {
      "text/plain": [
       "{'AL': {'WM': 59.52355517572909,\n",
       "  'BM': 50.977517106549364,\n",
       "  'WW': 64.30335968379447,\n",
       "  'BW': 56.14737685222268},\n",
       " 'AK': {'WM': 64.69325406655106,\n",
       "  'BM': 44.05594405594404,\n",
       "  'WW': 63.96416083916083,\n",
       "  'BW': 46.42857142857143},\n",
       " 'AZ': {'WM': 65.2216748768473,\n",
       "  'BM': 48.97959183673469,\n",
       "  'WW': 67.13676948051949,\n",
       "  'BW': 47.95454545454545}}"
      ]
     },
     "execution_count": 12,
     "metadata": {},
     "output_type": "execute_result"
    }
   ],
   "source": [
    "final_group_reco"
   ]
  },
  {
   "cell_type": "code",
   "execution_count": null,
   "id": "8a2e512d-9b4c-4879-ad6c-f9722aa6d8a9",
   "metadata": {},
   "outputs": [],
   "source": []
  },
  {
   "cell_type": "code",
   "execution_count": 13,
   "id": "d8381d06-ee66-4459-b8f3-9a53cee9c23f",
   "metadata": {},
   "outputs": [
    {
     "name": "stdout",
     "output_type": "stream",
     "text": [
      "sub Group reconstructed data has been stored in inversion_normal_subgroup_reconstruction.pickle\n"
     ]
    }
   ],
   "source": [
    "\n",
    "filename_all_state_inversion_subgroup = \"inversion_normal_subgroup_reconstruction.pickle\"\n",
    "\n",
    "with open(filename_all_state_inversion_subgroup, 'wb') as file:\n",
    "    pickle.dump(final_group_reco, file)\n",
    "\n",
    "print(f\"sub Group reconstructed data has been stored in {filename_all_state_inversion_subgroup}\")"
   ]
  },
  {
   "cell_type": "code",
   "execution_count": null,
   "id": "96b69144-369e-45b7-b2f4-47c05f386b9e",
   "metadata": {},
   "outputs": [],
   "source": []
  },
  {
   "cell_type": "markdown",
   "id": "3db1fb8f-978d-45d4-8e77-c7ce59b13d1c",
   "metadata": {},
   "source": [
    "# DP"
   ]
  },
  {
   "cell_type": "code",
   "execution_count": 14,
   "id": "29003495-d518-4e3f-8407-0423b03832c5",
   "metadata": {},
   "outputs": [
    {
     "name": "stdout",
     "output_type": "stream",
     "text": [
      "Inversion DP attack\n",
      "----------- Model_name --------------:  AL\n",
      "(2000, 10) (2000, 10)\n",
      "index1:  8 value1:  1 index2:  9 value2:  1\n",
      "(851, 10) (851, 10)\n",
      "index1:  8 value1:  1 index2:  9 value2:  2\n",
      "(186, 10) (186, 10)\n",
      "index1:  8 value1:  2 index2:  9 value2:  1\n",
      "(736, 10) (736, 10)\n",
      "index1:  8 value1:  2 index2:  9 value2:  2\n",
      "(227, 10) (227, 10)\n",
      "----------- Model_name --------------:  AK\n",
      "(2000, 10) (2000, 10)\n",
      "index1:  8 value1:  1 index2:  9 value2:  1\n",
      "(1101, 10) (1101, 10)\n",
      "index1:  8 value1:  1 index2:  9 value2:  2\n",
      "(39, 10) (39, 10)\n",
      "index1:  8 value1:  2 index2:  9 value2:  1\n",
      "(832, 10) (832, 10)\n",
      "index1:  8 value1:  2 index2:  9 value2:  2\n",
      "(28, 10) (28, 10)\n",
      "----------- Model_name --------------:  AZ\n",
      "(2000, 10) (2000, 10)\n",
      "index1:  8 value1:  1 index2:  9 value2:  1\n",
      "(1015, 10) (1015, 10)\n",
      "index1:  8 value1:  1 index2:  9 value2:  2\n",
      "(49, 10) (49, 10)\n",
      "index1:  8 value1:  2 index2:  9 value2:  1\n",
      "(896, 10) (896, 10)\n",
      "index1:  8 value1:  2 index2:  9 value2:  2\n",
      "(40, 10) (40, 10)\n"
     ]
    }
   ],
   "source": [
    "exp2 = \"tableak_FT_inversion_DP\"\n",
    "config = configs[0]\n",
    "final_grp={}\n",
    "final_subgrp={}\n",
    "\n",
    "print(\"Inversion DP attack\")\n",
    "\n",
    "final_all_errors = []\n",
    "final_cat_errors = []\n",
    "final_cont_errors = []\n",
    "\n",
    "final_all_errors_full = []\n",
    "final_cat_errors_full = []\n",
    "final_cont_errors_full = []\n",
    "\n",
    "\n",
    "for model_name in client_models:\n",
    "    print(\"----------- Model_name --------------: \",model_name)\n",
    "    temp_result={}\n",
    "    \n",
    "    recn_gt = f'../{exp2}/50_clients_data/reconstr_and_GT/reconstructions_ground_truths_{model_name}.pkl'\n",
    "    dataset = f'../{exp2}/50_clients_data/reconstr_and_GT/dataset_{model_name}.pkl'\n",
    "    tolerance_map = f'../{exp2}/50_clients_data/reconstr_and_GT/tolerance_map_{model_name}.pkl'\n",
    "\n",
    "    with open(recn_gt, 'rb') as file:\n",
    "        recn_gt = pickle.load(file)\n",
    "\n",
    "    with open(dataset, 'rb') as file:\n",
    "        dataset = pickle.load(file)\n",
    "    \n",
    "    with open(tolerance_map, 'rb') as file:\n",
    "        tolerance_map = pickle.load(file)\n",
    "\n",
    "    reconstructions = recn_gt['reconstructions']\n",
    "    ground_truths = recn_gt['ground_truths']\n",
    "\n",
    "    all_errors = []\n",
    "    cat_errors = []\n",
    "    cont_errors = []\n",
    "    \n",
    "    all_errors_full = []\n",
    "    cat_errors_full = []\n",
    "    cont_errors_full = []\n",
    "    \n",
    "    temp_all_errors = []\n",
    "    temp_cat_errors = []\n",
    "    temp_cont_errors = []\n",
    "    \n",
    "    match_results = {}\n",
    "    # index_value_pairs = [(8, 1),(8, 2), (9, 1), (9, 2)]\n",
    "    subgroup_pairs = [\n",
    "    [(8, 1), (9, 1)], # WM\n",
    "    [(8, 1), (9, 2)], # BM\n",
    "    [(8, 2), (9, 1)], # WW\n",
    "    [(8, 2), (9, 2)]  # BW\n",
    "    ]\n",
    "\n",
    "    for epoch_reconstruction, epoch_ground_truth in zip(reconstructions, ground_truths):\n",
    "        for client_reconstruction, client_ground_truth in zip(epoch_reconstruction, epoch_ground_truth):\n",
    "            if config['post_process_cont']:\n",
    "                client_reconstruction = post_process_continuous(client_reconstruction, dataset=dataset)\n",
    "            client_recon_projected, client_gt_projected = dataset.decode_batch(client_reconstruction, standardized=True), dataset.decode_batch(client_ground_truth, standardized=True)\n",
    "                    \n",
    "            print(client_gt_projected.shape, client_recon_projected.shape)\n",
    "                    \n",
    "            _, batch_cost_all_original, batch_cost_cat_original, batch_cost_cont_original = match_reconstruction_ground_truth(\n",
    "                                client_gt_projected, client_recon_projected, tolerance_map\n",
    "                                )\n",
    "            all_errors_full.append(np.mean(batch_cost_all_original))\n",
    "            cat_errors_full.append(np.mean(batch_cost_cat_original))\n",
    "            cont_errors_full.append(np.mean(batch_cost_cont_original))  \n",
    "\n",
    "            final_all_errors_full.append(all_errors_full)\n",
    "            final_cat_errors_full.append(cat_errors_full)\n",
    "            final_cont_errors_full.append(cont_errors_full) \n",
    "            \n",
    "            for (index1, value1), (index2, value2) in subgroup_pairs:\n",
    "\n",
    "                temp_all_errors = []\n",
    "                temp_cat_errors = []\n",
    "                temp_cont_errors = []\n",
    "                \n",
    "                filtered_gt, filtered_recon = subgroup_filter(client_gt_projected, client_recon_projected, index1, value1, index2, value2)     \n",
    "                print(filtered_gt.shape, filtered_recon.shape)\n",
    "    \n",
    "                # Call match_reconstruction_ground_truth with the filtered results\n",
    "                _, batch_cost_all, batch_cost_cat, batch_cost_cont = match_reconstruction_ground_truth(filtered_gt, filtered_recon, tolerance_map)\n",
    "                \n",
    "                temp_all_errors.append(np.mean(batch_cost_all))\n",
    "                temp_cat_errors.append(np.mean(batch_cost_cat))\n",
    "                temp_cont_errors.append(np.mean(batch_cost_cont))  \n",
    "    \n",
    "                all_errors.append(temp_all_errors)\n",
    "                cat_errors.append(temp_cat_errors)\n",
    "                cont_errors.append(temp_cont_errors) \n",
    "                \n",
    "            final_all_errors.append(all_errors)\n",
    "            final_cat_errors.append(cat_errors)\n",
    "            final_cont_errors.append(cont_errors)         "
   ]
  },
  {
   "cell_type": "code",
   "execution_count": 15,
   "id": "cef39273-3c6e-41ed-a8a8-caf93c4b998e",
   "metadata": {},
   "outputs": [],
   "source": [
    "local_epochs=[5]\n",
    "local_batch_sizes=[8]\n",
    "epoch_prior_params=[0.01]\n",
    "all_state_recon={}\n",
    "\n",
    "for m,model_name in enumerate(client_models):\n",
    "    collected_data = np.zeros((len(local_epochs), len(local_batch_sizes), len(epoch_prior_params), 3, 5))\n",
    "    \n",
    "    for i, lepochs in enumerate(local_epochs):\n",
    "        for j, lbatch_size in enumerate(local_batch_sizes):\n",
    "            for k, epoch_prior_param in enumerate(epoch_prior_params):\n",
    "    \n",
    "                collected_data[i, j, k, 0] = np.mean(final_all_errors_full[m]), np.std(final_all_errors_full[m]), np.median(final_all_errors_full[m]), np.min(final_all_errors_full[m]), np.max(final_all_errors_full[m])\n",
    "                collected_data[i, j, k, 1] = np.mean(final_cat_errors_full[m]), np.std(final_cat_errors_full[m]), np.median(final_cat_errors_full[m]), np.min(final_cat_errors_full[m]), np.max(final_cat_errors_full[m])\n",
    "                collected_data[i, j, k, 2] = np.mean(final_cont_errors_full[m]), np.std(final_cont_errors_full[m]), np.median(final_cont_errors_full[m]), np.min(final_cont_errors_full[m]), np.max(final_cont_errors_full[m])\n",
    "    \n",
    "            best_param_index = np.argmin(collected_data[i, j, :, 0, 0]).item()\n",
    "\n",
    "    temp_var=float(100 * (1 - collected_data[i, j, best_param_index, 0, 0]))\n",
    "    all_state_recon[model_name]=temp_var\n"
   ]
  },
  {
   "cell_type": "code",
   "execution_count": 16,
   "id": "ed775c6c-6798-420e-893f-6cd7903bebb9",
   "metadata": {},
   "outputs": [
    {
     "data": {
      "text/plain": [
       "{'AL': 60.20454545454545, 'AK': 62.404545454545456, 'AZ': 64.08636363636364}"
      ]
     },
     "execution_count": 16,
     "metadata": {},
     "output_type": "execute_result"
    }
   ],
   "source": [
    "all_state_recon"
   ]
  },
  {
   "cell_type": "code",
   "execution_count": null,
   "id": "42cbb13c-85aa-405b-94c1-503155596621",
   "metadata": {},
   "outputs": [],
   "source": []
  },
  {
   "cell_type": "code",
   "execution_count": 26,
   "id": "dad4eb7c-3040-4281-91ef-b7f85e3f0b44",
   "metadata": {},
   "outputs": [
    {
     "name": "stdout",
     "output_type": "stream",
     "text": [
      "All state reconstructed data(DP) has been stored in inversion_dp_all_states_reconstruction.pickle\n"
     ]
    }
   ],
   "source": [
    "all_state_inversion_dp = \"inversion_dp_all_states_reconstruction.pickle\"\n",
    "\n",
    "with open(all_state_inversion_dp, 'wb') as file:\n",
    "    pickle.dump(all_state_recon, file)\n",
    "\n",
    "print(f\"All state reconstructed data(DP) has been stored in {all_state_inversion_dp}\")"
   ]
  },
  {
   "cell_type": "code",
   "execution_count": null,
   "id": "25cb7f9c-cf14-434d-96ff-b7bc81b95c8e",
   "metadata": {},
   "outputs": [],
   "source": []
  },
  {
   "cell_type": "code",
   "execution_count": 17,
   "id": "3794d8ed-d7ad-457f-a764-35d18169f7bd",
   "metadata": {},
   "outputs": [
    {
     "data": {
      "text/plain": [
       "{'AL': {'WM': 52.96442687747036,\n",
       "  'BM': 46.7741935483871,\n",
       "  'WW': 56.484683794466406,\n",
       "  'BW': 52.5030036043252},\n",
       " 'AK': {'WM': 57.534472793328376,\n",
       "  'BM': 39.16083916083917,\n",
       "  'WW': 58.56643356643359,\n",
       "  'BW': 45.12987012987013},\n",
       " 'AZ': {'WM': 58.531124048365434,\n",
       "  'BM': 41.74397031539889,\n",
       "  'WW': 61.04910714285715,\n",
       "  'BW': 45.22727272727274}}"
      ]
     },
     "execution_count": 17,
     "metadata": {},
     "output_type": "execute_result"
    }
   ],
   "source": [
    "\n",
    "local_epochs = [5]\n",
    "local_batch_sizes = [8]\n",
    "epoch_prior_params = [0.01]\n",
    "final_group_reco={}\n",
    "for m,model_name in enumerate(client_models):\n",
    "    \n",
    "    temp_group_score=[]\n",
    "    all_errors =final_all_errors[m]\n",
    "    cat_errors=final_cat_errors[m]\n",
    "    cont_errors=final_cont_errors[m]\n",
    "    # print(all_errors)\n",
    "    for i in range(len(all_errors)):\n",
    "        collected_data = np.zeros((len(local_epochs), len(local_batch_sizes), len(epoch_prior_params), 3, 5))\n",
    "\n",
    "        for m, lepochs in enumerate(local_epochs): \n",
    "            for j, lbatch_size in enumerate(local_batch_sizes):\n",
    "                for k, epoch_prior_param in enumerate(epoch_prior_params):\n",
    "                    \n",
    "                    collected_data[m, j, k, 0] = np.mean(all_errors[i]), np.std(all_errors[i]), np.median(all_errors[i]), np.min(all_errors[i]), np.max(all_errors[i])\n",
    "                    collected_data[m, j, k, 1] = np.mean(cat_errors[i]), np.std(cat_errors[i]), np.median(cat_errors[i]), np.min(cat_errors[i]), np.max(cat_errors[i])\n",
    "                    collected_data[m, j, k, 2] = np.mean(cont_errors[i]), np.std(cont_errors[i]), np.median(cont_errors[i]), np.min(cont_errors[i]), np.max(cont_errors[i])\n",
    "    \n",
    "                best_param_index = np.argmin(collected_data[m, j, :, 0, 0]).item()\n",
    "    \n",
    "            # print(\"best_param_index\", best_param_index)\n",
    "            # print(f'Performance at {lepochs} Epochs and {lbatch_size} Batch Size: {100*(1-collected_data[m, j, best_param_index, 0, 0]):.1f}% +- {100*collected_data[m, j, best_param_index, 0, 1]:.2f}')\n",
    "            temp_var=float(100 * (1 - collected_data[m, j, best_param_index, 0, 0]))\n",
    "            temp_group_score.append(temp_var)\n",
    "            \n",
    "        # print(temp_group_score)\n",
    "        \n",
    "    final_group_reco[model_name] = {\n",
    "        \"WM\":temp_group_score[0],\n",
    "        \"BM\":temp_group_score[1] ,\n",
    "        \"WW\":temp_group_score[2] ,\n",
    "        \"BW\": temp_group_score[3]\n",
    "    }\n",
    "\n",
    "\n",
    "final_group_reco      "
   ]
  },
  {
   "cell_type": "code",
   "execution_count": 18,
   "id": "74127dff-2cc9-4590-9415-5f4f44ba7c4a",
   "metadata": {},
   "outputs": [
    {
     "data": {
      "text/plain": [
       "{'AL': {'WM': 52.96442687747036,\n",
       "  'BM': 46.7741935483871,\n",
       "  'WW': 56.484683794466406,\n",
       "  'BW': 52.5030036043252},\n",
       " 'AK': {'WM': 57.534472793328376,\n",
       "  'BM': 39.16083916083917,\n",
       "  'WW': 58.56643356643359,\n",
       "  'BW': 45.12987012987013},\n",
       " 'AZ': {'WM': 58.531124048365434,\n",
       "  'BM': 41.74397031539889,\n",
       "  'WW': 61.04910714285715,\n",
       "  'BW': 45.22727272727274}}"
      ]
     },
     "execution_count": 18,
     "metadata": {},
     "output_type": "execute_result"
    }
   ],
   "source": [
    "final_group_reco"
   ]
  },
  {
   "cell_type": "code",
   "execution_count": null,
   "id": "bd20f871-e0fd-4942-8bf0-6ecf19fb4827",
   "metadata": {},
   "outputs": [],
   "source": []
  },
  {
   "cell_type": "code",
   "execution_count": 19,
   "id": "c4c09ac3-0028-4ca0-9584-d48b5c91dfbc",
   "metadata": {},
   "outputs": [
    {
     "name": "stdout",
     "output_type": "stream",
     "text": [
      "subgroup reconstructed data (DP) has been stored in inversion_dp_subgroup_reconstruction.pickle\n"
     ]
    }
   ],
   "source": [
    "\n",
    "all_state_inversion_subgroup_dp = \"inversion_dp_subgroup_reconstruction.pickle\"\n",
    "\n",
    "with open(all_state_inversion_subgroup_dp, 'wb') as file:\n",
    "    pickle.dump(final_group_reco, file)\n",
    "\n",
    "print(f\"subgroup reconstructed data (DP) has been stored in {all_state_inversion_subgroup_dp}\")"
   ]
  },
  {
   "cell_type": "code",
   "execution_count": null,
   "id": "d2a4bf74-fb51-44a1-ac8a-f1252357e9c2",
   "metadata": {},
   "outputs": [],
   "source": []
  },
  {
   "cell_type": "markdown",
   "id": "49213d18-0738-43c0-bbdd-ba611bb3afa4",
   "metadata": {},
   "source": [
    "# Fair -- Intersectional"
   ]
  },
  {
   "cell_type": "code",
   "execution_count": 21,
   "id": "54c82e72-de6c-423d-bbad-d90cdfbbbafe",
   "metadata": {},
   "outputs": [
    {
     "name": "stdout",
     "output_type": "stream",
     "text": [
      "Inversion Fair attack\n",
      "----------- Model_name --------------:  AL\n",
      "(2000, 10) (2000, 10)\n",
      "index1:  8 value1:  1 index2:  9 value2:  1\n",
      "(851, 10) (851, 10)\n",
      "index1:  8 value1:  1 index2:  9 value2:  2\n",
      "(186, 10) (186, 10)\n",
      "index1:  8 value1:  2 index2:  9 value2:  1\n",
      "(736, 10) (736, 10)\n",
      "index1:  8 value1:  2 index2:  9 value2:  2\n",
      "(227, 10) (227, 10)\n",
      "----------- Model_name --------------:  AK\n",
      "(2000, 10) (2000, 10)\n",
      "index1:  8 value1:  1 index2:  9 value2:  1\n",
      "(1101, 10) (1101, 10)\n",
      "index1:  8 value1:  1 index2:  9 value2:  2\n",
      "(39, 10) (39, 10)\n",
      "index1:  8 value1:  2 index2:  9 value2:  1\n",
      "(832, 10) (832, 10)\n",
      "index1:  8 value1:  2 index2:  9 value2:  2\n",
      "(28, 10) (28, 10)\n",
      "----------- Model_name --------------:  AZ\n",
      "(2000, 10) (2000, 10)\n",
      "index1:  8 value1:  1 index2:  9 value2:  1\n",
      "(1015, 10) (1015, 10)\n",
      "index1:  8 value1:  1 index2:  9 value2:  2\n",
      "(49, 10) (49, 10)\n",
      "index1:  8 value1:  2 index2:  9 value2:  1\n",
      "(896, 10) (896, 10)\n",
      "index1:  8 value1:  2 index2:  9 value2:  2\n",
      "(40, 10) (40, 10)\n"
     ]
    }
   ],
   "source": [
    "exp3 = \"tableak_FT_inversion_fair\"\n",
    "config = configs[0]\n",
    "final_grp={}\n",
    "final_subgrp={}\n",
    "\n",
    "print(\"Inversion Fair attack\")\n",
    "\n",
    "final_all_errors = []\n",
    "final_cat_errors = []\n",
    "final_cont_errors = []\n",
    "\n",
    "final_all_errors_full = []\n",
    "final_cat_errors_full = []\n",
    "final_cont_errors_full = []\n",
    "\n",
    "\n",
    "for model_name in client_models:\n",
    "    print(\"----------- Model_name --------------: \",model_name)\n",
    "    temp_result={}\n",
    "    \n",
    "    recn_gt = f'../{exp3}/50_clients_data/reconstr_and_GT/reconstructions_ground_truths_{model_name}.pkl'\n",
    "    dataset = f'../{exp3}/50_clients_data/reconstr_and_GT/dataset_{model_name}.pkl'\n",
    "    tolerance_map = f'../{exp3}/50_clients_data/reconstr_and_GT/tolerance_map_{model_name}.pkl'\n",
    "\n",
    "    with open(recn_gt, 'rb') as file:\n",
    "        recn_gt = pickle.load(file)\n",
    "\n",
    "    with open(dataset, 'rb') as file:\n",
    "        dataset = pickle.load(file)\n",
    "    \n",
    "    with open(tolerance_map, 'rb') as file:\n",
    "        tolerance_map = pickle.load(file)\n",
    "\n",
    "    reconstructions = recn_gt['reconstructions']\n",
    "    ground_truths = recn_gt['ground_truths']\n",
    "\n",
    "    all_errors = []\n",
    "    cat_errors = []\n",
    "    cont_errors = []\n",
    "    \n",
    "    all_errors_full = []\n",
    "    cat_errors_full = []\n",
    "    cont_errors_full = []\n",
    "    \n",
    "    temp_all_errors = []\n",
    "    temp_cat_errors = []\n",
    "    temp_cont_errors = []\n",
    "    \n",
    "    match_results = {}\n",
    "    # index_value_pairs = [(8, 1),(8, 2), (9, 1), (9, 2)]\n",
    "    subgroup_pairs = [\n",
    "        [(8, 1), (9, 1)], # WM\n",
    "        [(8, 1), (9, 2)], # BM\n",
    "        [(8, 2), (9, 1)], # WW\n",
    "        [(8, 2), (9, 2)]  # BW\n",
    "        ]\n",
    "\n",
    "\n",
    "    for epoch_reconstruction, epoch_ground_truth in zip(reconstructions, ground_truths):\n",
    "        for client_reconstruction, client_ground_truth in zip(epoch_reconstruction, epoch_ground_truth):\n",
    "            if config['post_process_cont']:\n",
    "                client_reconstruction = post_process_continuous(client_reconstruction, dataset=dataset)\n",
    "            client_recon_projected, client_gt_projected = dataset.decode_batch(client_reconstruction, standardized=True), dataset.decode_batch(client_ground_truth, standardized=True)\n",
    "                    \n",
    "            print(client_gt_projected.shape, client_recon_projected.shape)\n",
    "                    \n",
    "            _, batch_cost_all_original, batch_cost_cat_original, batch_cost_cont_original = match_reconstruction_ground_truth(\n",
    "                                client_gt_projected, client_recon_projected, tolerance_map\n",
    "                                )\n",
    "            all_errors_full.append(np.mean(batch_cost_all_original))\n",
    "            cat_errors_full.append(np.mean(batch_cost_cat_original))\n",
    "            cont_errors_full.append(np.mean(batch_cost_cont_original))  \n",
    "\n",
    "            final_all_errors_full.append(all_errors_full)\n",
    "            final_cat_errors_full.append(cat_errors_full)\n",
    "            final_cont_errors_full.append(cont_errors_full) \n",
    "            \n",
    "            for (index1, value1), (index2, value2) in subgroup_pairs:\n",
    "\n",
    "                temp_all_errors = []\n",
    "                temp_cat_errors = []\n",
    "                temp_cont_errors = []\n",
    "                \n",
    "                filtered_gt, filtered_recon = subgroup_filter(client_gt_projected, client_recon_projected, index1, value1, index2, value2) \n",
    "                print(filtered_gt.shape, filtered_recon.shape)\n",
    "    \n",
    "                # Call match_reconstruction_ground_truth with the filtered results\n",
    "                _, batch_cost_all, batch_cost_cat, batch_cost_cont = match_reconstruction_ground_truth(filtered_gt, filtered_recon, tolerance_map)\n",
    "                \n",
    "                temp_all_errors.append(np.mean(batch_cost_all))\n",
    "                temp_cat_errors.append(np.mean(batch_cost_cat))\n",
    "                temp_cont_errors.append(np.mean(batch_cost_cont))  \n",
    "    \n",
    "                all_errors.append(temp_all_errors)\n",
    "                cat_errors.append(temp_cat_errors)\n",
    "                cont_errors.append(temp_cont_errors) \n",
    "                \n",
    "            final_all_errors.append(all_errors)\n",
    "            final_cat_errors.append(cat_errors)\n",
    "            final_cont_errors.append(cont_errors)         "
   ]
  },
  {
   "cell_type": "code",
   "execution_count": null,
   "id": "96288a0e-26a4-4b68-a89a-0b50ed3dce99",
   "metadata": {},
   "outputs": [],
   "source": []
  },
  {
   "cell_type": "code",
   "execution_count": 22,
   "id": "4d14416a-a95b-4a72-80ca-7f78256c6af4",
   "metadata": {},
   "outputs": [],
   "source": [
    "local_epochs=[5]\n",
    "local_batch_sizes=[8]\n",
    "epoch_prior_params=[0.01]\n",
    "all_state_recon={}\n",
    "\n",
    "for m,model_name in enumerate(client_models):\n",
    "    collected_data = np.zeros((len(local_epochs), len(local_batch_sizes), len(epoch_prior_params), 3, 5))\n",
    "    \n",
    "    for i, lepochs in enumerate(local_epochs):\n",
    "        for j, lbatch_size in enumerate(local_batch_sizes):\n",
    "            for k, epoch_prior_param in enumerate(epoch_prior_params):\n",
    "    \n",
    "                collected_data[i, j, k, 0] = np.mean(final_all_errors_full[m]), np.std(final_all_errors_full[m]), np.median(final_all_errors_full[m]), np.min(final_all_errors_full[m]), np.max(final_all_errors_full[m])\n",
    "                collected_data[i, j, k, 1] = np.mean(final_cat_errors_full[m]), np.std(final_cat_errors_full[m]), np.median(final_cat_errors_full[m]), np.min(final_cat_errors_full[m]), np.max(final_cat_errors_full[m])\n",
    "                collected_data[i, j, k, 2] = np.mean(final_cont_errors_full[m]), np.std(final_cont_errors_full[m]), np.median(final_cont_errors_full[m]), np.min(final_cont_errors_full[m]), np.max(final_cont_errors_full[m])\n",
    "    \n",
    "            best_param_index = np.argmin(collected_data[i, j, :, 0, 0]).item()\n",
    "\n",
    "    temp_var=float(100 * (1 - collected_data[i, j, best_param_index, 0, 0]))\n",
    "    all_state_recon[model_name]=temp_var\n"
   ]
  },
  {
   "cell_type": "code",
   "execution_count": 23,
   "id": "979d4a11-0cd6-4d50-a376-bc26ef0cb78d",
   "metadata": {},
   "outputs": [
    {
     "data": {
      "text/plain": [
       "{'AL': 61.06363636363636, 'AK': 56.85909090909092, 'AZ': 61.06363636363638}"
      ]
     },
     "execution_count": 23,
     "metadata": {},
     "output_type": "execute_result"
    }
   ],
   "source": [
    "all_state_recon"
   ]
  },
  {
   "cell_type": "code",
   "execution_count": 16,
   "id": "f47e29c9-834f-4081-8b08-124b3a854436",
   "metadata": {},
   "outputs": [
    {
     "name": "stdout",
     "output_type": "stream",
     "text": [
      "All state reconstructed data(DP) has been stored in inversion_fair_all_states_reconstruction.pickle\n"
     ]
    }
   ],
   "source": [
    "all_state_inversion_fair = \"inversion_fair_all_states_reconstruction.pickle\"\n",
    "\n",
    "with open(all_state_inversion_fair, 'wb') as file:\n",
    "    pickle.dump(all_state_recon, file)\n",
    "\n",
    "print(f\"All state reconstructed data(fair) has been stored in {all_state_inversion_fair}\")"
   ]
  },
  {
   "cell_type": "code",
   "execution_count": null,
   "id": "360a94e1-1e15-4c37-8bb1-5cacd2589c16",
   "metadata": {},
   "outputs": [],
   "source": []
  },
  {
   "cell_type": "code",
   "execution_count": 24,
   "id": "96caa9ad-9bc4-470c-bc39-9ee0f21eaf7d",
   "metadata": {},
   "outputs": [
    {
     "data": {
      "text/plain": [
       "{'AL': {'WM': 53.57333618203184,\n",
       "  'BM': 47.40957966764419,\n",
       "  'WW': 57.806324110671945,\n",
       "  'BW': 52.943532238686416},\n",
       " 'AK': {'WM': 53.174799768805215,\n",
       "  'BM': 40.55944055944055,\n",
       "  'WW': 51.89029720279721,\n",
       "  'BW': 40.25974025974026},\n",
       " 'AZ': {'WM': 56.26511419614868,\n",
       "  'BM': 50.46382189239331,\n",
       "  'WW': 56.26014610389611,\n",
       "  'BW': 46.36363636363636}}"
      ]
     },
     "execution_count": 24,
     "metadata": {},
     "output_type": "execute_result"
    }
   ],
   "source": [
    "\n",
    "local_epochs = [5]\n",
    "local_batch_sizes = [8]\n",
    "epoch_prior_params = [0.01]\n",
    "final_group_reco={}\n",
    "for m,model_name in enumerate(client_models):\n",
    "    \n",
    "    temp_group_score=[]\n",
    "    all_errors =final_all_errors[m]\n",
    "    cat_errors=final_cat_errors[m]\n",
    "    cont_errors=final_cont_errors[m]\n",
    "    # print(all_errors)\n",
    "    for i in range(len(all_errors)):\n",
    "        collected_data = np.zeros((len(local_epochs), len(local_batch_sizes), len(epoch_prior_params), 3, 5))\n",
    "\n",
    "        for m, lepochs in enumerate(local_epochs): \n",
    "            for j, lbatch_size in enumerate(local_batch_sizes):\n",
    "                for k, epoch_prior_param in enumerate(epoch_prior_params):\n",
    "                    \n",
    "                    collected_data[m, j, k, 0] = np.mean(all_errors[i]), np.std(all_errors[i]), np.median(all_errors[i]), np.min(all_errors[i]), np.max(all_errors[i])\n",
    "                    collected_data[m, j, k, 1] = np.mean(cat_errors[i]), np.std(cat_errors[i]), np.median(cat_errors[i]), np.min(cat_errors[i]), np.max(cat_errors[i])\n",
    "                    collected_data[m, j, k, 2] = np.mean(cont_errors[i]), np.std(cont_errors[i]), np.median(cont_errors[i]), np.min(cont_errors[i]), np.max(cont_errors[i])\n",
    "    \n",
    "                best_param_index = np.argmin(collected_data[m, j, :, 0, 0]).item()\n",
    "    \n",
    "            # print(\"best_param_index\", best_param_index)\n",
    "            # print(f'Performance at {lepochs} Epochs and {lbatch_size} Batch Size: {100*(1-collected_data[m, j, best_param_index, 0, 0]):.1f}% +- {100*collected_data[m, j, best_param_index, 0, 1]:.2f}')\n",
    "            temp_var=float(100 * (1 - collected_data[m, j, best_param_index, 0, 0]))\n",
    "            temp_group_score.append(temp_var)\n",
    "            \n",
    "        # print(temp_group_score)\n",
    "        \n",
    "    final_group_reco[model_name] = {\n",
    "        \"WM\":temp_group_score[0],\n",
    "        \"BM\":temp_group_score[1] ,\n",
    "        \"WW\":temp_group_score[2] ,\n",
    "        \"BW\": temp_group_score[3]\n",
    "    }\n",
    "\n",
    "\n",
    "final_group_reco      "
   ]
  },
  {
   "cell_type": "code",
   "execution_count": null,
   "id": "41074a83-be64-4dc2-9e4f-b4e808360003",
   "metadata": {},
   "outputs": [],
   "source": []
  },
  {
   "cell_type": "code",
   "execution_count": null,
   "id": "b156b398-b8ac-4c2a-a81b-42f6491a0d6b",
   "metadata": {},
   "outputs": [],
   "source": []
  },
  {
   "cell_type": "code",
   "execution_count": 25,
   "id": "d0bebf36-4e91-4c61-92aa-c5aeb175f014",
   "metadata": {},
   "outputs": [
    {
     "name": "stdout",
     "output_type": "stream",
     "text": [
      "SubGroup reconstructed data (fair) has been stored in inversion_fair_subgroup_reconstruction.pickle\n"
     ]
    }
   ],
   "source": [
    "\n",
    "all_state_inversion_subgroup_fair = \"inversion_fair_subgroup_reconstruction.pickle\"\n",
    "\n",
    "with open(all_state_inversion_subgroup_fair, 'wb') as file:\n",
    "    pickle.dump(final_group_reco, file)\n",
    "\n",
    "print(f\"SubGroup reconstructed data (fair) has been stored in {all_state_inversion_subgroup_fair}\")"
   ]
  },
  {
   "cell_type": "code",
   "execution_count": null,
   "id": "4ceb1836-9391-4964-896d-b6f4a0f98d62",
   "metadata": {},
   "outputs": [],
   "source": []
  },
  {
   "cell_type": "code",
   "execution_count": null,
   "id": "10baa2ad-6980-42e7-8f5d-a795af4a3311",
   "metadata": {},
   "outputs": [],
   "source": []
  },
  {
   "cell_type": "markdown",
   "id": "014778b9-1d03-4a74-a147-3b36e6f3cd87",
   "metadata": {},
   "source": [
    "# FairDP -- intersectional loss"
   ]
  },
  {
   "cell_type": "code",
   "execution_count": null,
   "id": "9c5dc911-f556-47bb-9093-38806a64d4de",
   "metadata": {},
   "outputs": [],
   "source": []
  },
  {
   "cell_type": "code",
   "execution_count": 26,
   "id": "a0d13f0c-2733-4aa6-98c8-dced70db7b54",
   "metadata": {},
   "outputs": [
    {
     "name": "stdout",
     "output_type": "stream",
     "text": [
      "Inversion FairDP attack\n",
      "----------- Model_name --------------:  AL\n",
      "(2000, 10) (2000, 10)\n",
      "index1:  8 value1:  1 index2:  9 value2:  1\n",
      "(851, 10) (851, 10)\n",
      "index1:  8 value1:  1 index2:  9 value2:  2\n",
      "(186, 10) (186, 10)\n",
      "index1:  8 value1:  2 index2:  9 value2:  1\n",
      "(736, 10) (736, 10)\n",
      "index1:  8 value1:  2 index2:  9 value2:  2\n",
      "(227, 10) (227, 10)\n",
      "----------- Model_name --------------:  AK\n",
      "(2000, 10) (2000, 10)\n",
      "index1:  8 value1:  1 index2:  9 value2:  1\n",
      "(1101, 10) (1101, 10)\n",
      "index1:  8 value1:  1 index2:  9 value2:  2\n",
      "(39, 10) (39, 10)\n",
      "index1:  8 value1:  2 index2:  9 value2:  1\n",
      "(832, 10) (832, 10)\n",
      "index1:  8 value1:  2 index2:  9 value2:  2\n",
      "(28, 10) (28, 10)\n",
      "----------- Model_name --------------:  AZ\n",
      "(2000, 10) (2000, 10)\n",
      "index1:  8 value1:  1 index2:  9 value2:  1\n",
      "(1015, 10) (1015, 10)\n",
      "index1:  8 value1:  1 index2:  9 value2:  2\n",
      "(49, 10) (49, 10)\n",
      "index1:  8 value1:  2 index2:  9 value2:  1\n",
      "(896, 10) (896, 10)\n",
      "index1:  8 value1:  2 index2:  9 value2:  2\n",
      "(40, 10) (40, 10)\n"
     ]
    }
   ],
   "source": [
    "exp4 = \"tableak_FT_inversion_fairDP\"\n",
    "config = configs[0]\n",
    "final_grp={}\n",
    "final_subgrp={}\n",
    "\n",
    "print(\"Inversion FairDP attack\")\n",
    "\n",
    "final_all_errors = []\n",
    "final_cat_errors = []\n",
    "final_cont_errors = []\n",
    "\n",
    "final_all_errors_full = []\n",
    "final_cat_errors_full = []\n",
    "final_cont_errors_full = []\n",
    "\n",
    "\n",
    "for model_name in client_models:\n",
    "    print(\"----------- Model_name --------------: \",model_name)\n",
    "    temp_result={}\n",
    "    \n",
    "    recn_gt = f'../{exp4}/50_clients_data/reconstr_and_GT/reconstructions_ground_truths_{model_name}.pkl'\n",
    "    dataset = f'../{exp4}/50_clients_data/reconstr_and_GT/dataset_{model_name}.pkl'\n",
    "    tolerance_map = f'../{exp4}/50_clients_data/reconstr_and_GT/tolerance_map_{model_name}.pkl'\n",
    "\n",
    "    with open(recn_gt, 'rb') as file:\n",
    "        recn_gt = pickle.load(file)\n",
    "\n",
    "    with open(dataset, 'rb') as file:\n",
    "        dataset = pickle.load(file)\n",
    "    \n",
    "    with open(tolerance_map, 'rb') as file:\n",
    "        tolerance_map = pickle.load(file)\n",
    "\n",
    "    reconstructions = recn_gt['reconstructions']\n",
    "    ground_truths = recn_gt['ground_truths']\n",
    "\n",
    "    all_errors = []\n",
    "    cat_errors = []\n",
    "    cont_errors = []\n",
    "    \n",
    "    all_errors_full = []\n",
    "    cat_errors_full = []\n",
    "    cont_errors_full = []\n",
    "    \n",
    "    temp_all_errors = []\n",
    "    temp_cat_errors = []\n",
    "    temp_cont_errors = []\n",
    "    \n",
    "    match_results = {}\n",
    "    # index_value_pairs = [(8, 1),(8, 2), (9, 1), (9, 2)]\n",
    "    subgroup_pairs = [\n",
    "        [(8, 1), (9, 1)], # WM\n",
    "        [(8, 1), (9, 2)], # BM\n",
    "        [(8, 2), (9, 1)], # WW\n",
    "        [(8, 2), (9, 2)]  # BW\n",
    "        ]\n",
    "\n",
    "    for epoch_reconstruction, epoch_ground_truth in zip(reconstructions, ground_truths):\n",
    "        for client_reconstruction, client_ground_truth in zip(epoch_reconstruction, epoch_ground_truth):\n",
    "            if config['post_process_cont']:\n",
    "                client_reconstruction = post_process_continuous(client_reconstruction, dataset=dataset)\n",
    "            client_recon_projected, client_gt_projected = dataset.decode_batch(client_reconstruction, standardized=True), dataset.decode_batch(client_ground_truth, standardized=True)\n",
    "                    \n",
    "            print(client_gt_projected.shape, client_recon_projected.shape)\n",
    "                    \n",
    "            _, batch_cost_all_original, batch_cost_cat_original, batch_cost_cont_original = match_reconstruction_ground_truth(\n",
    "                                client_gt_projected, client_recon_projected, tolerance_map\n",
    "                                )\n",
    "            all_errors_full.append(np.mean(batch_cost_all_original))\n",
    "            cat_errors_full.append(np.mean(batch_cost_cat_original))\n",
    "            cont_errors_full.append(np.mean(batch_cost_cont_original))  \n",
    "\n",
    "            final_all_errors_full.append(all_errors_full)\n",
    "            final_cat_errors_full.append(cat_errors_full)\n",
    "            final_cont_errors_full.append(cont_errors_full) \n",
    "            \n",
    "            for (index1, value1), (index2, value2) in subgroup_pairs:\n",
    "\n",
    "                temp_all_errors = []\n",
    "                temp_cat_errors = []\n",
    "                temp_cont_errors = []\n",
    "                \n",
    "                filtered_gt, filtered_recon = subgroup_filter(client_gt_projected, client_recon_projected, index1, value1, index2, value2) \n",
    "                print(filtered_gt.shape, filtered_recon.shape)\n",
    "    \n",
    "                # Call match_reconstruction_ground_truth with the filtered results\n",
    "                _, batch_cost_all, batch_cost_cat, batch_cost_cont = match_reconstruction_ground_truth(filtered_gt, filtered_recon, tolerance_map)\n",
    "                \n",
    "                temp_all_errors.append(np.mean(batch_cost_all))\n",
    "                temp_cat_errors.append(np.mean(batch_cost_cat))\n",
    "                temp_cont_errors.append(np.mean(batch_cost_cont))  \n",
    "    \n",
    "                all_errors.append(temp_all_errors)\n",
    "                cat_errors.append(temp_cat_errors)\n",
    "                cont_errors.append(temp_cont_errors) \n",
    "                \n",
    "            final_all_errors.append(all_errors)\n",
    "            final_cat_errors.append(cat_errors)\n",
    "            final_cont_errors.append(cont_errors)         "
   ]
  },
  {
   "cell_type": "code",
   "execution_count": null,
   "id": "d188eade-9b19-4b4b-a81a-23ac18c62a16",
   "metadata": {},
   "outputs": [],
   "source": []
  },
  {
   "cell_type": "code",
   "execution_count": 27,
   "id": "8a0b0de2-d8e9-42e3-ab51-3d4cef99721d",
   "metadata": {},
   "outputs": [],
   "source": [
    "local_epochs=[5]\n",
    "local_batch_sizes=[8]\n",
    "epoch_prior_params=[0.01]\n",
    "all_state_recon={}\n",
    "\n",
    "for m,model_name in enumerate(client_models):\n",
    "    collected_data = np.zeros((len(local_epochs), len(local_batch_sizes), len(epoch_prior_params), 3, 5))\n",
    "    \n",
    "    for i, lepochs in enumerate(local_epochs):\n",
    "        for j, lbatch_size in enumerate(local_batch_sizes):\n",
    "            for k, epoch_prior_param in enumerate(epoch_prior_params):\n",
    "    \n",
    "                collected_data[i, j, k, 0] = np.mean(final_all_errors_full[m]), np.std(final_all_errors_full[m]), np.median(final_all_errors_full[m]), np.min(final_all_errors_full[m]), np.max(final_all_errors_full[m])\n",
    "                collected_data[i, j, k, 1] = np.mean(final_cat_errors_full[m]), np.std(final_cat_errors_full[m]), np.median(final_cat_errors_full[m]), np.min(final_cat_errors_full[m]), np.max(final_cat_errors_full[m])\n",
    "                collected_data[i, j, k, 2] = np.mean(final_cont_errors_full[m]), np.std(final_cont_errors_full[m]), np.median(final_cont_errors_full[m]), np.min(final_cont_errors_full[m]), np.max(final_cont_errors_full[m])\n",
    "    \n",
    "            best_param_index = np.argmin(collected_data[i, j, :, 0, 0]).item()\n",
    "\n",
    "    temp_var=float(100 * (1 - collected_data[i, j, best_param_index, 0, 0]))\n",
    "    all_state_recon[model_name]=temp_var\n"
   ]
  },
  {
   "cell_type": "code",
   "execution_count": null,
   "id": "f29732a0-ff61-404d-9d38-104c0d31b0e4",
   "metadata": {},
   "outputs": [],
   "source": []
  },
  {
   "cell_type": "code",
   "execution_count": 28,
   "id": "4b724b1b-46a5-4039-a727-f402f7768ef3",
   "metadata": {},
   "outputs": [
    {
     "data": {
      "text/plain": [
       "{'AL': 55.23636363636365, 'AK': 57.40454545454546, 'AZ': 60.068181818181834}"
      ]
     },
     "execution_count": 28,
     "metadata": {},
     "output_type": "execute_result"
    }
   ],
   "source": [
    "all_state_recon"
   ]
  },
  {
   "cell_type": "code",
   "execution_count": 24,
   "id": "152996e7-de78-4c21-831a-d217070ba662",
   "metadata": {},
   "outputs": [
    {
     "name": "stdout",
     "output_type": "stream",
     "text": [
      "All state reconstructed data(fairDP) has been stored in inversion_fairDP_all_states_reconstruction.pickle\n"
     ]
    }
   ],
   "source": [
    "all_state_inversion_fairDP = \"inversion_fairDP_all_states_reconstruction.pickle\"\n",
    "\n",
    "with open(all_state_inversion_fairDP, 'wb') as file:\n",
    "    pickle.dump(all_state_recon, file)\n",
    "\n",
    "print(f\"All state reconstructed data(fairDP) has been stored in {all_state_inversion_fairDP}\")"
   ]
  },
  {
   "cell_type": "code",
   "execution_count": null,
   "id": "7accab20-6918-4f3b-aa91-99b8a553ff90",
   "metadata": {},
   "outputs": [],
   "source": []
  },
  {
   "cell_type": "code",
   "execution_count": 29,
   "id": "3355e29d-bdbe-444b-a155-2da2e6e511b9",
   "metadata": {},
   "outputs": [
    {
     "data": {
      "text/plain": [
       "{'AL': {'WM': 47.74062600149557,\n",
       "  'BM': 44.477028347996104,\n",
       "  'WW': 51.01284584980238,\n",
       "  'BW': 47.97757308770525},\n",
       " 'AK': {'WM': 52.786722813970776,\n",
       "  'BM': 34.26573426573426,\n",
       "  'WW': 53.46372377622378,\n",
       "  'BW': 36.68831168831169},\n",
       " 'AZ': {'WM': 54.78728168383342,\n",
       "  'BM': 42.48608534322821,\n",
       "  'WW': 57.33563311688313,\n",
       "  'BW': 39.31818181818182}}"
      ]
     },
     "execution_count": 29,
     "metadata": {},
     "output_type": "execute_result"
    }
   ],
   "source": [
    "\n",
    "local_epochs = [5]\n",
    "local_batch_sizes = [8]\n",
    "epoch_prior_params = [0.01]\n",
    "final_group_reco={}\n",
    "for m,model_name in enumerate(client_models):\n",
    "    \n",
    "    temp_group_score=[]\n",
    "    all_errors =final_all_errors[m]\n",
    "    cat_errors=final_cat_errors[m]\n",
    "    cont_errors=final_cont_errors[m]\n",
    "    # print(all_errors)\n",
    "    for i in range(len(all_errors)):\n",
    "        collected_data = np.zeros((len(local_epochs), len(local_batch_sizes), len(epoch_prior_params), 3, 5))\n",
    "\n",
    "        for m, lepochs in enumerate(local_epochs): \n",
    "            for j, lbatch_size in enumerate(local_batch_sizes):\n",
    "                for k, epoch_prior_param in enumerate(epoch_prior_params):\n",
    "                    \n",
    "                    collected_data[m, j, k, 0] = np.mean(all_errors[i]), np.std(all_errors[i]), np.median(all_errors[i]), np.min(all_errors[i]), np.max(all_errors[i])\n",
    "                    collected_data[m, j, k, 1] = np.mean(cat_errors[i]), np.std(cat_errors[i]), np.median(cat_errors[i]), np.min(cat_errors[i]), np.max(cat_errors[i])\n",
    "                    collected_data[m, j, k, 2] = np.mean(cont_errors[i]), np.std(cont_errors[i]), np.median(cont_errors[i]), np.min(cont_errors[i]), np.max(cont_errors[i])\n",
    "    \n",
    "                best_param_index = np.argmin(collected_data[m, j, :, 0, 0]).item()\n",
    "    \n",
    "            # print(\"best_param_index\", best_param_index)\n",
    "            # print(f'Performance at {lepochs} Epochs and {lbatch_size} Batch Size: {100*(1-collected_data[m, j, best_param_index, 0, 0]):.1f}% +- {100*collected_data[m, j, best_param_index, 0, 1]:.2f}')\n",
    "            temp_var=float(100 * (1 - collected_data[m, j, best_param_index, 0, 0]))\n",
    "            temp_group_score.append(temp_var)\n",
    "            \n",
    "        # print(temp_group_score)\n",
    "        \n",
    "    final_group_reco[model_name] = {\n",
    "        \"WM\":temp_group_score[0],\n",
    "        \"BM\":temp_group_score[1] ,\n",
    "        \"WW\":temp_group_score[2] ,\n",
    "        \"BW\": temp_group_score[3]\n",
    "    }\n",
    "\n",
    "\n",
    "final_group_reco      "
   ]
  },
  {
   "cell_type": "code",
   "execution_count": null,
   "id": "f109efaf-e552-4ed8-8305-21ddd6fdc542",
   "metadata": {},
   "outputs": [],
   "source": []
  },
  {
   "cell_type": "code",
   "execution_count": 30,
   "id": "ffad88b8-cbea-48bf-8640-9cd4334cc4c8",
   "metadata": {},
   "outputs": [
    {
     "name": "stdout",
     "output_type": "stream",
     "text": [
      "SubGroup reconstructed data (fairDP) has been stored in inversion_fairDP_subgroup_reconstruction.pickle\n"
     ]
    }
   ],
   "source": [
    "\n",
    "all_state_inversion_subgroup_fairDP = \"inversion_fairDP_subgroup_reconstruction.pickle\"\n",
    "\n",
    "with open(all_state_inversion_subgroup_fairDP, 'wb') as file:\n",
    "    pickle.dump(final_group_reco, file)\n",
    "\n",
    "print(f\"SubGroup reconstructed data (fairDP) has been stored in {all_state_inversion_subgroup_fairDP}\")"
   ]
  },
  {
   "cell_type": "code",
   "execution_count": null,
   "id": "211c4bf6-263f-4309-91b0-788a673f011e",
   "metadata": {},
   "outputs": [],
   "source": []
  },
  {
   "cell_type": "code",
   "execution_count": null,
   "id": "b76a6eba-1117-4569-8a3d-b7e4ccdc4980",
   "metadata": {},
   "outputs": [],
   "source": []
  },
  {
   "cell_type": "code",
   "execution_count": null,
   "id": "f3566b97-8491-44a5-bc2f-0dad07c43193",
   "metadata": {},
   "outputs": [],
   "source": []
  },
  {
   "cell_type": "code",
   "execution_count": null,
   "id": "293f9b8a-0984-4c42-95e0-41ab66ed7405",
   "metadata": {},
   "outputs": [],
   "source": []
  },
  {
   "cell_type": "code",
   "execution_count": null,
   "id": "8013933e-ed0a-4057-903f-f6691f5e2f97",
   "metadata": {},
   "outputs": [],
   "source": []
  },
  {
   "cell_type": "code",
   "execution_count": null,
   "id": "362c530c-b2bc-4d3d-b866-e7e7fb7bd801",
   "metadata": {},
   "outputs": [],
   "source": []
  },
  {
   "cell_type": "code",
   "execution_count": null,
   "id": "47a2439d-1e56-4d65-8254-3a7460e8b4e2",
   "metadata": {},
   "outputs": [],
   "source": []
  },
  {
   "cell_type": "code",
   "execution_count": null,
   "id": "21df2063-648f-4a29-bd96-3e2d4135bb6f",
   "metadata": {},
   "outputs": [],
   "source": []
  },
  {
   "cell_type": "code",
   "execution_count": null,
   "id": "d6174488-c202-4743-b0fa-921b2a830571",
   "metadata": {},
   "outputs": [],
   "source": []
  },
  {
   "cell_type": "code",
   "execution_count": null,
   "id": "a9cd365d-484c-4943-bd4c-9ae6b1eacf09",
   "metadata": {},
   "outputs": [],
   "source": []
  },
  {
   "cell_type": "code",
   "execution_count": null,
   "id": "d7ad2d0e-d2e6-42ff-bf4c-aa55c990d7d0",
   "metadata": {},
   "outputs": [],
   "source": []
  },
  {
   "cell_type": "code",
   "execution_count": null,
   "id": "b985054d-6b53-430f-98eb-8824e7e2ae1c",
   "metadata": {},
   "outputs": [],
   "source": []
  },
  {
   "cell_type": "code",
   "execution_count": null,
   "id": "987e495f-8f77-4844-89ed-edaf6b20dd00",
   "metadata": {},
   "outputs": [],
   "source": []
  },
  {
   "cell_type": "code",
   "execution_count": null,
   "id": "9737b15e-fe11-4f19-a4bb-7e60ba439b6f",
   "metadata": {},
   "outputs": [],
   "source": []
  },
  {
   "cell_type": "code",
   "execution_count": null,
   "id": "1ce6144c-95a7-49ae-960a-10abc4366349",
   "metadata": {},
   "outputs": [],
   "source": []
  },
  {
   "cell_type": "code",
   "execution_count": null,
   "id": "fe11005d-b1ca-403b-9458-b9f09f6ee769",
   "metadata": {},
   "outputs": [],
   "source": []
  },
  {
   "cell_type": "code",
   "execution_count": 31,
   "id": "6488b979-a94d-4f1f-9104-f783cb8d8fd4",
   "metadata": {},
   "outputs": [],
   "source": [
    "# N- all + group\n",
    "# D- all + group\n",
    "# F- all + group\n",
    "# DF- all + group"
   ]
  },
  {
   "cell_type": "code",
   "execution_count": 28,
   "id": "5fce79ec-6f10-4439-afb1-4dc81cf76a30",
   "metadata": {},
   "outputs": [],
   "source": [
    "\n",
    "state_inversion_normal = \"inversion_normal_all_states_reconstruction.pickle\"\n",
    "state_inversion_dp = \"inversion_dp_all_states_reconstruction.pickle\"\n",
    "state_inversion_fair = \"inversion_fair_all_states_reconstruction.pickle\"\n",
    "state_inversion_fairdp = \"inversion_fairDP_all_states_reconstruction.pickle\"\n",
    "\n",
    "\n",
    "inversion_normal_subgroup = \"inversion_normal_subgroup_reconstruction.pickle\"\n",
    "inversion_dp_subgroup = \"inversion_dp_subgroup_reconstruction.pickle\"\n",
    "inversion_fair_subgroup = \"inversion_fair_subgroup_reconstruction.pickle\"\n",
    "inversion_fairdp_subgroup = \"inversion_fairDP_subgroup_reconstruction.pickle\"\n",
    "\n"
   ]
  },
  {
   "cell_type": "code",
   "execution_count": null,
   "id": "effdd58f-a520-44e4-9473-bbc9225d6246",
   "metadata": {},
   "outputs": [],
   "source": []
  },
  {
   "cell_type": "code",
   "execution_count": 29,
   "id": "9566aedc-8779-4f00-8e91-1d7fefe70aa5",
   "metadata": {},
   "outputs": [],
   "source": [
    "\n",
    "\n",
    "with open(state_inversion_normal, 'rb') as file:\n",
    "    inversion_normal_state_reconstruction = pickle.load(file)\n",
    "with open(inversion_normal_subgroup, 'rb') as file:\n",
    "    inversion_normal_subgroup_reconstruction = pickle.load(file)\n",
    "\n",
    "\n",
    "with open(state_inversion_dp, 'rb') as file:\n",
    "    inversion_dp_state_reconstruction = pickle.load(file)    \n",
    "with open(inversion_dp_subgroup, 'rb') as file:\n",
    "    inversion_dp_subgroup_reconstruction = pickle.load(file)\n",
    "\n",
    "\n",
    "with open(state_inversion_fair, 'rb') as file:\n",
    "    inversion_fair_state_reconstruction = pickle.load(file)    \n",
    "with open(inversion_fair_subgroup, 'rb') as file:\n",
    "    inversion_fair_subgroup_reconstruction = pickle.load(file)\n",
    "\n",
    "\n",
    "with open(state_inversion_fairdp, 'rb') as file:\n",
    "    inversion_fairdp_state_reconstruction = pickle.load(file)    \n",
    "with open(inversion_fairdp_subgroup, 'rb') as file:\n",
    "    inversion_fairdp_subgroup_reconstruction = pickle.load(file)\n",
    "\n",
    "\n"
   ]
  },
  {
   "cell_type": "code",
   "execution_count": null,
   "id": "b1bb2909-720a-4fa0-8687-ebed3d4e3b8d",
   "metadata": {},
   "outputs": [],
   "source": []
  },
  {
   "cell_type": "code",
   "execution_count": null,
   "id": "7a6d14f0-2143-45e9-8981-825ae95e09c1",
   "metadata": {},
   "outputs": [],
   "source": []
  },
  {
   "cell_type": "code",
   "execution_count": 30,
   "id": "5944bd95-40f2-4eb9-865d-743442bad116",
   "metadata": {},
   "outputs": [
    {
     "data": {
      "text/plain": [
       "(  State      Value\n",
       " 0    AL  67.722727\n",
       " 1    AK  68.454545\n",
       " 2    AZ  70.295455\n",
       " 3    AR  73.081818\n",
       " 4    CA  68.986364,\n",
       "   State      Value\n",
       " 0    AL  60.204545\n",
       " 1    AK  62.404545\n",
       " 2    AZ  64.086364\n",
       " 3    AR  62.800000\n",
       " 4    CA  58.750000)"
      ]
     },
     "execution_count": 30,
     "metadata": {},
     "output_type": "execute_result"
    }
   ],
   "source": [
    "inversion_normal_all = pd.DataFrame(list(inversion_normal_state_reconstruction.items()), columns=['State', 'Value'])\n",
    "inversion_dp_all = pd.DataFrame(list(inversion_dp_state_reconstruction.items()), columns=['State', 'Value'])\n",
    "inversion_fair_all = pd.DataFrame(list(inversion_fair_state_reconstruction.items()), columns=['State', 'Value'])\n",
    "inversion_fairdp_all = pd.DataFrame(list(inversion_fairdp_state_reconstruction.items()), columns=['State', 'Value'])\n",
    "\n",
    "inversion_normal_all.head(),inversion_dp_all.head()"
   ]
  },
  {
   "cell_type": "code",
   "execution_count": null,
   "id": "b3b3f105-3fb1-4dd9-8017-9d71fedf600b",
   "metadata": {},
   "outputs": [],
   "source": []
  },
  {
   "cell_type": "code",
   "execution_count": 32,
   "id": "7f23b4dc-bc26-49c3-b7aa-6400eb9d5122",
   "metadata": {},
   "outputs": [
    {
     "data": {
      "image/png": "[encoded data removed]",
      "text/plain": [
       "<Figure size 1000x600 with 1 Axes>"
      ]
     },
     "metadata": {},
     "output_type": "display_data"
    }
   ],
   "source": [
    "\n",
    "merged_df = pd.DataFrame({\n",
    "    'inversion_normal_all': inversion_normal_all['Value'],\n",
    "    'inversion_dp_all': inversion_dp_all['Value'],\n",
    "    'inversion_fair_all': inversion_fair_all['Value'],\n",
    "    'inversion_fairdp_all': inversion_fairdp_all['Value']\n",
    "})\n",
    "\n",
    "plt.figure(figsize=(10, 6))\n",
    "plt.boxplot(merged_df.values, labels=['Normal', 'DP',\"Fair\", \"FairDp\"])\n",
    "plt.title('Reconstruction rate across all states')\n",
    "plt.ylabel('Values')\n",
    "plt.show()"
   ]
  },
  {
   "cell_type": "code",
   "execution_count": null,
   "id": "ab07797d-8df6-4f00-9dea-420cd67b0e1a",
   "metadata": {},
   "outputs": [],
   "source": []
  },
  {
   "cell_type": "code",
   "execution_count": null,
   "id": "a657c79f-920e-4502-84ed-67d9ed3a5d8f",
   "metadata": {},
   "outputs": [],
   "source": []
  },
  {
   "cell_type": "code",
   "execution_count": null,
   "id": "48382a69-b2d6-4f3c-aa88-d566a52ac0f7",
   "metadata": {},
   "outputs": [],
   "source": []
  },
  {
   "cell_type": "code",
   "execution_count": null,
   "id": "ff7fa9ea-9f7c-4d8d-88af-70e890d3bacb",
   "metadata": {},
   "outputs": [],
   "source": []
  },
  {
   "cell_type": "code",
   "execution_count": null,
   "id": "2358aab8-9e37-480a-895d-585fb8276a92",
   "metadata": {},
   "outputs": [],
   "source": []
  },
  {
   "cell_type": "code",
   "execution_count": null,
   "id": "226108d7-701e-42f4-8d85-b682504587c1",
   "metadata": {},
   "outputs": [],
   "source": []
  },
  {
   "cell_type": "code",
   "execution_count": 11,
   "id": "2110edd5-75d6-45cc-b37b-cc5f99bd25dd",
   "metadata": {},
   "outputs": [],
   "source": [
    "# inversion_dp_group_reconstruction"
   ]
  },
  {
   "cell_type": "code",
   "execution_count": null,
   "id": "e8afc5d0-4ca4-4881-b0ad-0f7dfbeebfc3",
   "metadata": {},
   "outputs": [],
   "source": []
  },
  {
   "cell_type": "code",
   "execution_count": 33,
   "id": "fe374b01-a914-4627-aeba-104a9051e041",
   "metadata": {},
   "outputs": [],
   "source": [
    "df_inversion_normal_subgroup_reconstruction = pd.DataFrame(inversion_normal_subgroup_reconstruction).T\n",
    "df_inversion_normal_subgroup_reconstruction.index.name = 'State'\n",
    "df_inversion_normal_subgroup_reconstruction.reset_index(inplace=True)\n",
    "\n",
    "df_inversion_dp_subgroup_reconstruction = pd.DataFrame(inversion_dp_subgroup_reconstruction).T\n",
    "df_inversion_dp_subgroup_reconstruction.index.name = 'State'\n",
    "df_inversion_dp_subgroup_reconstruction.reset_index(inplace=True)\n",
    "\n",
    "df_inversion_fair_subgroup_reconstruction = pd.DataFrame(inversion_fair_subgroup_reconstruction).T\n",
    "df_inversion_fair_subgroup_reconstruction.index.name = 'State'\n",
    "df_inversion_fair_subgroup_reconstruction.reset_index(inplace=True)\n",
    "\n",
    "\n",
    "df_inversion_fairdp_subgroup_reconstruction = pd.DataFrame(inversion_fairdp_subgroup_reconstruction).T\n",
    "df_inversion_fairdp_subgroup_reconstruction.index.name = 'State'\n",
    "df_inversion_fairdp_subgroup_reconstruction.reset_index(inplace=True)\n",
    "\n",
    "\n"
   ]
  },
  {
   "cell_type": "code",
   "execution_count": null,
   "id": "be3e5637-5a13-4654-8b18-f62047fe1ccf",
   "metadata": {},
   "outputs": [],
   "source": []
  },
  {
   "cell_type": "code",
   "execution_count": 34,
   "id": "30234515-db86-49d6-b8bc-57fea1ad8511",
   "metadata": {},
   "outputs": [
    {
     "data": {
      "text/html": [
       "<div>\n",
       "<style scoped>\n",
       "    .dataframe tbody tr th:only-of-type {\n",
       "        vertical-align: middle;\n",
       "    }\n",
       "\n",
       "    .dataframe tbody tr th {\n",
       "        vertical-align: top;\n",
       "    }\n",
       "\n",
       "    .dataframe thead th {\n",
       "        text-align: right;\n",
       "    }\n",
       "</style>\n",
       "<table border=\"1\" class=\"dataframe\">\n",
       "  <thead>\n",
       "    <tr style=\"text-align: right;\">\n",
       "      <th></th>\n",
       "      <th>State</th>\n",
       "      <th>Male_Count</th>\n",
       "      <th>Female_Count</th>\n",
       "      <th>White_Count</th>\n",
       "      <th>Black_Count</th>\n",
       "    </tr>\n",
       "  </thead>\n",
       "  <tbody>\n",
       "    <tr>\n",
       "      <th>0</th>\n",
       "      <td>AL</td>\n",
       "      <td>1038</td>\n",
       "      <td>962</td>\n",
       "      <td>1588</td>\n",
       "      <td>412</td>\n",
       "    </tr>\n",
       "    <tr>\n",
       "      <th>1</th>\n",
       "      <td>AK</td>\n",
       "      <td>1129</td>\n",
       "      <td>871</td>\n",
       "      <td>1932</td>\n",
       "      <td>68</td>\n",
       "    </tr>\n",
       "    <tr>\n",
       "      <th>2</th>\n",
       "      <td>AZ</td>\n",
       "      <td>1052</td>\n",
       "      <td>948</td>\n",
       "      <td>1912</td>\n",
       "      <td>88</td>\n",
       "    </tr>\n",
       "    <tr>\n",
       "      <th>3</th>\n",
       "      <td>AR</td>\n",
       "      <td>1026</td>\n",
       "      <td>974</td>\n",
       "      <td>1807</td>\n",
       "      <td>193</td>\n",
       "    </tr>\n",
       "    <tr>\n",
       "      <th>4</th>\n",
       "      <td>CA</td>\n",
       "      <td>1070</td>\n",
       "      <td>930</td>\n",
       "      <td>1856</td>\n",
       "      <td>144</td>\n",
       "    </tr>\n",
       "  </tbody>\n",
       "</table>\n",
       "</div>"
      ],
      "text/plain": [
       "  State  Male_Count  Female_Count  White_Count  Black_Count\n",
       "0    AL        1038           962         1588          412\n",
       "1    AK        1129           871         1932           68\n",
       "2    AZ        1052           948         1912           88\n",
       "3    AR        1026           974         1807          193\n",
       "4    CA        1070           930         1856          144"
      ]
     },
     "execution_count": 34,
     "metadata": {},
     "output_type": "execute_result"
    }
   ],
   "source": [
    "gt_info=pd.read_csv('50_clients_data/state_sex_race_counts.csv')\n",
    "gt_info.head()"
   ]
  },
  {
   "cell_type": "code",
   "execution_count": 35,
   "id": "f1c355d9-822c-4db2-8239-0e263cccd617",
   "metadata": {},
   "outputs": [
    {
     "data": {
      "text/html": [
       "<div>\n",
       "<style scoped>\n",
       "    .dataframe tbody tr th:only-of-type {\n",
       "        vertical-align: middle;\n",
       "    }\n",
       "\n",
       "    .dataframe tbody tr th {\n",
       "        vertical-align: top;\n",
       "    }\n",
       "\n",
       "    .dataframe thead th {\n",
       "        text-align: right;\n",
       "    }\n",
       "</style>\n",
       "<table border=\"1\" class=\"dataframe\">\n",
       "  <thead>\n",
       "    <tr style=\"text-align: right;\">\n",
       "      <th></th>\n",
       "      <th>State</th>\n",
       "      <th>WM</th>\n",
       "      <th>BM</th>\n",
       "      <th>WW</th>\n",
       "      <th>BW</th>\n",
       "    </tr>\n",
       "  </thead>\n",
       "  <tbody>\n",
       "    <tr>\n",
       "      <th>0</th>\n",
       "      <td>AL</td>\n",
       "      <td>59.523555</td>\n",
       "      <td>50.977517</td>\n",
       "      <td>64.303360</td>\n",
       "      <td>56.147377</td>\n",
       "    </tr>\n",
       "    <tr>\n",
       "      <th>1</th>\n",
       "      <td>AK</td>\n",
       "      <td>64.693254</td>\n",
       "      <td>44.055944</td>\n",
       "      <td>63.964161</td>\n",
       "      <td>46.428571</td>\n",
       "    </tr>\n",
       "    <tr>\n",
       "      <th>2</th>\n",
       "      <td>AZ</td>\n",
       "      <td>65.221675</td>\n",
       "      <td>48.979592</td>\n",
       "      <td>67.136769</td>\n",
       "      <td>47.954545</td>\n",
       "    </tr>\n",
       "    <tr>\n",
       "      <th>3</th>\n",
       "      <td>AR</td>\n",
       "      <td>67.105516</td>\n",
       "      <td>52.642706</td>\n",
       "      <td>69.661856</td>\n",
       "      <td>54.545455</td>\n",
       "    </tr>\n",
       "    <tr>\n",
       "      <th>4</th>\n",
       "      <td>CA</td>\n",
       "      <td>64.234450</td>\n",
       "      <td>48.000000</td>\n",
       "      <td>64.211738</td>\n",
       "      <td>48.529412</td>\n",
       "    </tr>\n",
       "  </tbody>\n",
       "</table>\n",
       "</div>"
      ],
      "text/plain": [
       "  State         WM         BM         WW         BW\n",
       "0    AL  59.523555  50.977517  64.303360  56.147377\n",
       "1    AK  64.693254  44.055944  63.964161  46.428571\n",
       "2    AZ  65.221675  48.979592  67.136769  47.954545\n",
       "3    AR  67.105516  52.642706  69.661856  54.545455\n",
       "4    CA  64.234450  48.000000  64.211738  48.529412"
      ]
     },
     "execution_count": 35,
     "metadata": {},
     "output_type": "execute_result"
    }
   ],
   "source": [
    "df_inversion_normal_subgroup_reconstruction.head()"
   ]
  },
  {
   "cell_type": "code",
   "execution_count": 36,
   "id": "a653bc78-3833-4678-bd7c-3fb8198c9b72",
   "metadata": {},
   "outputs": [
    {
     "data": {
      "image/png": "[encoded data removed]",
      "text/plain": [
       "<Figure size 1000x600 with 1 Axes>"
      ]
     },
     "metadata": {},
     "output_type": "display_data"
    }
   ],
   "source": [
    "plt.figure(figsize=(10, 6))\n",
    "df_inversion_normal_subgroup_reconstruction[['WM', 'BM', 'WW', 'BW']].boxplot()\n",
    "plt.title(\"Normal traning- subgroup Reconstruction\")\n",
    "plt.ylabel(\"Reconstruction (%)\")\n",
    "plt.xlabel(\"Subgroups\")\n",
    "plt.grid(False)\n",
    "plt.show()"
   ]
  },
  {
   "cell_type": "code",
   "execution_count": 37,
   "id": "15ce340d-577b-4f1b-a028-8bc40ae2b97a",
   "metadata": {},
   "outputs": [
    {
     "data": {
      "image/png": "[encoded data removed]",
      "text/plain": [
       "<Figure size 1000x600 with 1 Axes>"
      ]
     },
     "metadata": {},
     "output_type": "display_data"
    }
   ],
   "source": [
    "\n",
    "plt.figure(figsize=(10, 6))\n",
    "df_inversion_dp_subgroup_reconstruction[['WM', 'BM', 'WW', 'BW']].boxplot()\n",
    "plt.title(\"DP traning- subgroup Reconstruction\")\n",
    "plt.ylabel(\"Reconstruction (%)\")\n",
    "plt.xlabel(\"Subgroups\")\n",
    "plt.grid(False)\n",
    "plt.show()"
   ]
  },
  {
   "cell_type": "code",
   "execution_count": 17,
   "id": "49869fea-d644-47e9-b0d5-df708d4bde1c",
   "metadata": {},
   "outputs": [
    {
     "data": {
      "text/html": [
       "<div>\n",
       "<style scoped>\n",
       "    .dataframe tbody tr th:only-of-type {\n",
       "        vertical-align: middle;\n",
       "    }\n",
       "\n",
       "    .dataframe tbody tr th {\n",
       "        vertical-align: top;\n",
       "    }\n",
       "\n",
       "    .dataframe thead th {\n",
       "        text-align: right;\n",
       "    }\n",
       "</style>\n",
       "<table border=\"1\" class=\"dataframe\">\n",
       "  <thead>\n",
       "    <tr style=\"text-align: right;\">\n",
       "      <th></th>\n",
       "      <th>State</th>\n",
       "      <th>WM</th>\n",
       "      <th>BM</th>\n",
       "      <th>WW</th>\n",
       "      <th>BW</th>\n",
       "    </tr>\n",
       "  </thead>\n",
       "  <tbody>\n",
       "    <tr>\n",
       "      <th>0</th>\n",
       "      <td>AL</td>\n",
       "      <td>53.573336</td>\n",
       "      <td>47.409580</td>\n",
       "      <td>57.806324</td>\n",
       "      <td>52.943532</td>\n",
       "    </tr>\n",
       "    <tr>\n",
       "      <th>1</th>\n",
       "      <td>AK</td>\n",
       "      <td>53.174800</td>\n",
       "      <td>40.559441</td>\n",
       "      <td>51.890297</td>\n",
       "      <td>40.259740</td>\n",
       "    </tr>\n",
       "    <tr>\n",
       "      <th>2</th>\n",
       "      <td>AZ</td>\n",
       "      <td>56.265114</td>\n",
       "      <td>50.463822</td>\n",
       "      <td>56.260146</td>\n",
       "      <td>46.363636</td>\n",
       "    </tr>\n",
       "  </tbody>\n",
       "</table>\n",
       "</div>"
      ],
      "text/plain": [
       "  State         WM         BM         WW         BW\n",
       "0    AL  53.573336  47.409580  57.806324  52.943532\n",
       "1    AK  53.174800  40.559441  51.890297  40.259740\n",
       "2    AZ  56.265114  50.463822  56.260146  46.363636"
      ]
     },
     "execution_count": 17,
     "metadata": {},
     "output_type": "execute_result"
    }
   ],
   "source": [
    "df_inversion_fair_subgroup_reconstruction"
   ]
  },
  {
   "cell_type": "code",
   "execution_count": null,
   "id": "209d0d6b-0dee-40ea-b72f-e4fd4f04e3ec",
   "metadata": {},
   "outputs": [],
   "source": []
  },
  {
   "cell_type": "code",
   "execution_count": 38,
   "id": "dc3eb987-8969-45ca-90a5-9469ec90b55c",
   "metadata": {},
   "outputs": [
    {
     "data": {
      "image/png": "[encoded data removed]",
      "text/plain": [
       "<Figure size 1000x600 with 1 Axes>"
      ]
     },
     "metadata": {},
     "output_type": "display_data"
    }
   ],
   "source": [
    "\n",
    "plt.figure(figsize=(10, 6))\n",
    "df_inversion_fair_subgroup_reconstruction[['WM', 'BM', 'WW', 'BW']].boxplot()\n",
    "plt.title(\"Fair traning- subGroup Reconstruction\")\n",
    "plt.ylabel(\"Reconstruction (%)\")\n",
    "plt.xlabel(\"Subgroups\")\n",
    "plt.grid(False)\n",
    "plt.show()"
   ]
  },
  {
   "cell_type": "code",
   "execution_count": null,
   "id": "3ae11c40-68ef-4285-9480-e3deffd2b78c",
   "metadata": {},
   "outputs": [],
   "source": []
  },
  {
   "cell_type": "code",
   "execution_count": null,
   "id": "760de217-7e79-4b09-aa84-48cae3209887",
   "metadata": {},
   "outputs": [],
   "source": []
  },
  {
   "cell_type": "code",
   "execution_count": 40,
   "id": "ced6d7e0-7ad1-4795-a558-c9f0209dfe87",
   "metadata": {},
   "outputs": [
    {
     "data": {
      "image/png": "[encoded data removed]",
      "text/plain": [
       "<Figure size 1000x600 with 1 Axes>"
      ]
     },
     "metadata": {},
     "output_type": "display_data"
    }
   ],
   "source": [
    "\n",
    "plt.figure(figsize=(10, 6))\n",
    "df_inversion_fairdp_subgroup_reconstruction[['WM', 'BM', 'WW', 'BW']].boxplot()\n",
    "plt.title(\"FairDp training- subgroup Reconstruction\")\n",
    "plt.ylabel(\"Reconstruction (%)\")\n",
    "plt.xlabel(\"Subroups\")\n",
    "plt.grid(False)\n",
    "plt.show()"
   ]
  },
  {
   "cell_type": "code",
   "execution_count": null,
   "id": "9b54c73a-5ae6-4f3c-894a-6031a3b17dc8",
   "metadata": {},
   "outputs": [],
   "source": []
  },
  {
   "cell_type": "code",
   "execution_count": null,
   "id": "b1286fe7-da8e-4da4-ba83-64d6a4cbbcb5",
   "metadata": {},
   "outputs": [],
   "source": []
  },
  {
   "cell_type": "code",
   "execution_count": null,
   "id": "75786b56-257d-412b-b52d-cfd0591acf42",
   "metadata": {},
   "outputs": [],
   "source": []
  },
  {
   "cell_type": "code",
   "execution_count": null,
   "id": "3b3e69cc-6689-47d2-b765-ddf0ef193509",
   "metadata": {},
   "outputs": [],
   "source": []
  },
  {
   "cell_type": "code",
   "execution_count": null,
   "id": "f817c45e-95c1-4386-a6d6-56eb980f76f7",
   "metadata": {},
   "outputs": [],
   "source": []
  },
  {
   "cell_type": "code",
   "execution_count": null,
   "id": "f2df8eb3-5cd7-4098-ac79-2e721b86a1a6",
   "metadata": {},
   "outputs": [],
   "source": [
    "# jupyter nbconvert --to script reconstruct_analysis_both.ipynb\n"
   ]
  },
  {
   "cell_type": "code",
   "execution_count": null,
   "id": "d82fa5b2-e9f3-4486-a689-30899d9c71b5",
   "metadata": {},
   "outputs": [],
   "source": []
  },
  {
   "cell_type": "code",
   "execution_count": null,
   "id": "5eb50c6e-b122-4b30-92fa-7aa59d672113",
   "metadata": {},
   "outputs": [],
   "source": []
  },
  {
   "cell_type": "code",
   "execution_count": null,
   "id": "9a037e71-49c2-4ebb-9d32-c63f7f35fef1",
   "metadata": {},
   "outputs": [],
   "source": [
    "# jupyter nbconvert --to script reconstruct_analysis_subgroup.ipynb"
   ]
  },
  {
   "cell_type": "code",
   "execution_count": null,
   "id": "b64d9a4e-cb83-492a-8570-4308e448587a",
   "metadata": {},
   "outputs": [],
   "source": []
  },
  {
   "cell_type": "code",
   "execution_count": null,
   "id": "8ac6c22d-816a-4000-86e2-8da4c9c2baa9",
   "metadata": {},
   "outputs": [],
   "source": []
  },
  {
   "cell_type": "code",
   "execution_count": null,
   "id": "2bd5b8d5-073d-4f4d-8dc9-2089c5a5c376",
   "metadata": {},
   "outputs": [],
   "source": []
  },
  {
   "cell_type": "code",
   "execution_count": null,
   "id": "67bb9d86-be85-4aa0-a232-64c132fc3e00",
   "metadata": {},
   "outputs": [],
   "source": []
  },
  {
   "cell_type": "code",
   "execution_count": null,
   "id": "ca2bcb92-e1d6-43c3-8e76-bebbcf39dc27",
   "metadata": {},
   "outputs": [],
   "source": []
  },
  {
   "cell_type": "code",
   "execution_count": null,
   "id": "dedb1c32-d372-4399-b6e9-e8ec46950d00",
   "metadata": {},
   "outputs": [],
   "source": []
  },
  {
   "cell_type": "code",
   "execution_count": 48,
   "id": "e2d8cc7c-b8d2-4c28-82a7-56a4a468a85e",
   "metadata": {},
   "outputs": [],
   "source": [
    "\n",
    "# state_inversion_normal = \"inversion_normal_all_states_reconstruction.pickle\"\n",
    "# state_inversion_dp = \"inversion_dp_all_states_reconstruction.pickle\"\n",
    "# state_inversion_fair = \"inversion_fair_all_states_reconstruction.pickle\"\n",
    "# state_inversion_fairdp = \"inversion_fairDP_all_states_reconstruction.pickle\"\n",
    "\n",
    "\n",
    "# inversion_normal_group = \"inversion_normal_group_reconstruction.pickle\"\n",
    "# inversion_dp_group = \"inversion_dp_group_reconstruction.pickle\"\n",
    "# inversion_fair_group = \"inversion_fair_group_reconstruction.pickle\"\n",
    "# inversion_fairdp_group = \"inversion_fairDP_subgroup_reconstruction.pickle\"\n",
    "\n"
   ]
  },
  {
   "cell_type": "code",
   "execution_count": 49,
   "id": "45cf0573-a894-4b32-80e9-596b65a91794",
   "metadata": {},
   "outputs": [],
   "source": [
    "\n",
    "\n",
    "# with open(state_inversion_normal, 'rb') as file:\n",
    "#     inversion_normal_state_reconstruction = pickle.load(file)\n",
    "# with open(inversion_normal_group, 'rb') as file:\n",
    "#     inversion_normal_group_reconstruction = pickle.load(file)\n",
    "\n",
    "\n",
    "# with open(state_inversion_dp, 'rb') as file:\n",
    "#     inversion_dp_state_reconstruction = pickle.load(file)    \n",
    "# with open(inversion_dp_group, 'rb') as file:\n",
    "#     inversion_dp_group_reconstruction = pickle.load(file)\n",
    "\n",
    "\n",
    "# with open(state_inversion_fair, 'rb') as file:\n",
    "#     inversion_fair_state_reconstruction = pickle.load(file)    \n",
    "# with open(inversion_fair_group, 'rb') as file:\n",
    "#     inversion_fair_group_reconstruction = pickle.load(file)\n",
    "\n",
    "\n",
    "# with open(state_inversion_fairdp, 'rb') as file:\n",
    "#     inversion_fairdp_state_reconstruction = pickle.load(file)    \n",
    "# with open(inversion_fairdp_group, 'rb') as file:\n",
    "#     inversion_fairdp_group_reconstruction = pickle.load(file)\n",
    "\n",
    "\n"
   ]
  },
  {
   "cell_type": "code",
   "execution_count": 50,
   "id": "762ce787-65f2-47e2-8e7a-0ea29792cafa",
   "metadata": {},
   "outputs": [
    {
     "data": {
      "text/plain": [
       "(  State      Value\n",
       " 0    AL  67.722727\n",
       " 1    AK  68.454545\n",
       " 2    AZ  70.295455\n",
       " 3    AR  73.081818\n",
       " 4    CA  68.986364,\n",
       "   State      Value\n",
       " 0    AL  60.204545\n",
       " 1    AK  62.404545\n",
       " 2    AZ  64.086364\n",
       " 3    AR  62.800000\n",
       " 4    CA  58.750000)"
      ]
     },
     "execution_count": 50,
     "metadata": {},
     "output_type": "execute_result"
    }
   ],
   "source": [
    "inversion_normal_all = pd.DataFrame(list(inversion_normal_state_reconstruction.items()), columns=['State', 'Value'])\n",
    "inversion_dp_all = pd.DataFrame(list(inversion_dp_state_reconstruction.items()), columns=['State', 'Value'])\n",
    "inversion_fair_all = pd.DataFrame(list(inversion_fair_state_reconstruction.items()), columns=['State', 'Value'])\n",
    "inversion_fairdp_all = pd.DataFrame(list(inversion_fairdp_state_reconstruction.items()), columns=['State', 'Value'])\n",
    "\n",
    "inversion_normal_all.head(),inversion_dp_all.head()"
   ]
  },
  {
   "cell_type": "code",
   "execution_count": 59,
   "id": "21aff5fc-ef20-4310-aeed-ffc53a5425f8",
   "metadata": {},
   "outputs": [],
   "source": [
    "\n",
    "# merged_df = pd.DataFrame({\n",
    "#     'inversion_normal_all': inversion_normal_all['Value'],\n",
    "#     'inversion_dp_all': inversion_dp_all['Value'],\n",
    "#     'inversion_fair_all': inversion_fair_all['Value'],\n",
    "#     'inversion_fairdp_all': inversion_fairdp_all['Value']\n",
    "# })\n",
    "\n",
    "# plt.figure(figsize=(8, 6))\n",
    "# plt.boxplot(merged_df.values, labels=['Normal', 'DP',\"Fair\", \"FairDp\"])\n",
    "# plt.title('Reconstruction rate across all states')\n",
    "# plt.ylabel(\"Reconstruction (%)\")\n",
    "# plt.show()"
   ]
  },
  {
   "cell_type": "code",
   "execution_count": null,
   "id": "004cadd6-e948-4d10-b9f6-866d1120581f",
   "metadata": {},
   "outputs": [],
   "source": []
  },
  {
   "cell_type": "code",
   "execution_count": 54,
   "id": "4f967b5f-1fec-422e-9edf-d4a52703f736",
   "metadata": {},
   "outputs": [],
   "source": [
    "# df_inversion_normal_group_reconstruction = pd.DataFrame(inversion_normal_group_reconstruction).T\n",
    "# df_inversion_normal_group_reconstruction.index.name = 'State'\n",
    "# df_inversion_normal_group_reconstruction.reset_index(inplace=True)\n",
    "\n",
    "# df_inversion_dp_group_reconstruction = pd.DataFrame(inversion_dp_group_reconstruction).T\n",
    "# df_inversion_dp_group_reconstruction.index.name = 'State'\n",
    "# df_inversion_dp_group_reconstruction.reset_index(inplace=True)\n",
    "\n",
    "# df_inversion_fair_group_reconstruction = pd.DataFrame(inversion_fair_group_reconstruction).T\n",
    "# df_inversion_fair_group_reconstruction.index.name = 'State'\n",
    "# df_inversion_fair_group_reconstruction.reset_index(inplace=True)\n",
    "\n",
    "\n",
    "# df_inversion_fairdp_group_reconstruction = pd.DataFrame(inversion_fairdp_group_reconstruction).T\n",
    "# df_inversion_fairdp_group_reconstruction.index.name = 'State'\n",
    "# df_inversion_fairdp_group_reconstruction.reset_index(inplace=True)\n",
    "\n",
    "\n"
   ]
  },
  {
   "cell_type": "code",
   "execution_count": null,
   "id": "2ae3d01d-e1b6-4464-b007-aae041833815",
   "metadata": {},
   "outputs": [],
   "source": []
  },
  {
   "cell_type": "code",
   "execution_count": null,
   "id": "f7f38964-c25e-43eb-873d-d03bb219835b",
   "metadata": {},
   "outputs": [],
   "source": []
  },
  {
   "cell_type": "code",
   "execution_count": null,
   "id": "7b9216f9-69fe-4a55-bc70-66eb00b143b1",
   "metadata": {},
   "outputs": [],
   "source": []
  },
  {
   "cell_type": "code",
   "execution_count": null,
   "id": "2c58aa45-bf7c-45ff-9dc8-70b82ed086d8",
   "metadata": {},
   "outputs": [],
   "source": []
  },
  {
   "cell_type": "code",
   "execution_count": null,
   "id": "a3381001-dd98-427c-8e95-804119f23ac2",
   "metadata": {},
   "outputs": [],
   "source": []
  },
  {
   "cell_type": "code",
   "execution_count": 55,
   "id": "4fe4bb07-26ee-4fa6-96c9-3fadbecb6837",
   "metadata": {},
   "outputs": [],
   "source": [
    "# plt.figure(figsize=(10, 6))\n",
    "# df_inversion_normal_group_reconstruction[['Male', 'Female', 'White', 'Black']].boxplot()\n",
    "# plt.title(\"Normal traning- Group Reconstruction\")\n",
    "# plt.ylabel(\"Reconstruction (%)\")\n",
    "# plt.xlabel(\"Groups\")\n",
    "# plt.grid(False)\n",
    "# plt.show()"
   ]
  },
  {
   "cell_type": "code",
   "execution_count": 56,
   "id": "f695750a-ca2a-4c72-88c7-6c78ea647fab",
   "metadata": {},
   "outputs": [],
   "source": [
    "\n",
    "# plt.figure(figsize=(10, 6))\n",
    "# df_inversion_dp_group_reconstruction[['Male', 'Female', 'White', 'Black']].boxplot()\n",
    "# plt.title(\"DP traning- Group Reconstruction\")\n",
    "# plt.ylabel(\"Reconstruction (%)\")\n",
    "# plt.xlabel(\"Groups\")\n",
    "# plt.grid(False)\n",
    "# plt.show()"
   ]
  },
  {
   "cell_type": "code",
   "execution_count": 57,
   "id": "cf2d149f-9562-405f-8345-49c380f6e58f",
   "metadata": {},
   "outputs": [],
   "source": [
    "\n",
    "# plt.figure(figsize=(10, 6))\n",
    "# df_inversion_fair_group_reconstruction[['Male', 'Female', 'White', 'Black']].boxplot()\n",
    "# plt.title(\"Fair traning- Group Reconstruction\")\n",
    "# plt.ylabel(\"Reconstruction (%)\")\n",
    "# plt.xlabel(\"Groups\")\n",
    "# plt.grid(False)\n",
    "# plt.show()"
   ]
  },
  {
   "cell_type": "code",
   "execution_count": null,
   "id": "5a49660a-a534-4bbe-bb9d-3623d2413444",
   "metadata": {},
   "outputs": [],
   "source": []
  },
  {
   "cell_type": "code",
   "execution_count": null,
   "id": "1c556f27-a263-489b-860c-f97d4d216afb",
   "metadata": {},
   "outputs": [],
   "source": []
  },
  {
   "cell_type": "code",
   "execution_count": 58,
   "id": "da75ec4c-3ffb-4d5b-a8a4-7de7bb7ad812",
   "metadata": {},
   "outputs": [],
   "source": [
    "\n",
    "# plt.figure(figsize=(10, 6))\n",
    "# df_inversion_fair_group_reconstruction[['Male', 'Female', 'White', 'Black']].boxplot()\n",
    "# plt.title(\"Fair traning- Group Reconstruction\")\n",
    "# plt.ylabel(\"Reconstruction (%)\")\n",
    "# plt.xlabel(\"Groups\")\n",
    "# plt.grid(False)\n",
    "# plt.show()"
   ]
  },
  {
   "cell_type": "code",
   "execution_count": null,
   "id": "288be6be-9446-4ec2-a75e-c6bd0aa4a9cc",
   "metadata": {},
   "outputs": [],
   "source": []
  }
 ],
 "metadata": {
  "kernelspec": {
   "display_name": "Python 3 (ipykernel)",
   "language": "python",
   "name": "python3"
  },
  "language_info": {
   "codemirror_mode": {
    "name": "ipython",
    "version": 3
   },
   "file_extension": ".py",
   "mimetype": "text/x-python",
   "name": "python",
   "nbconvert_exporter": "python",
   "pygments_lexer": "ipython3",
   "version": "3.8.18"
  }
 },
 "nbformat": 4,
 "nbformat_minor": 5
}
